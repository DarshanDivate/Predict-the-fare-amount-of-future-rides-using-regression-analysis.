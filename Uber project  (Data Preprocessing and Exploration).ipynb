{
 "cells": [
  {
   "cell_type": "markdown",
   "metadata": {
    "id": "nQr4swfVf-Dm"
   },
   "source": [
    "### Predict the fare amount of future rides using regression analysis"
   ]
  },
  {
   "cell_type": "code",
   "execution_count": 2,
   "metadata": {
    "id": "TbqwYe_mf55R"
   },
   "outputs": [],
   "source": [
    "import pandas as pd\n",
    "import matplotlib.pyplot as plt\n",
    "import numpy as np"
   ]
  },
  {
   "cell_type": "markdown",
   "metadata": {
    "id": "KUxPe0ZhYxly"
   },
   "source": [
    "# **Loading the Dataset**\n",
    "First we load the dataset and find out the number of columns, rows, NULL values, etc."
   ]
  },
  {
   "cell_type": "code",
   "execution_count": 56,
   "metadata": {
    "id": "xeyUP57KlCiC"
   },
   "outputs": [
    {
     "data": {
      "text/html": [
       "<div>\n",
       "<style scoped>\n",
       "    .dataframe tbody tr th:only-of-type {\n",
       "        vertical-align: middle;\n",
       "    }\n",
       "\n",
       "    .dataframe tbody tr th {\n",
       "        vertical-align: top;\n",
       "    }\n",
       "\n",
       "    .dataframe thead th {\n",
       "        text-align: right;\n",
       "    }\n",
       "</style>\n",
       "<table border=\"1\" class=\"dataframe\">\n",
       "  <thead>\n",
       "    <tr style=\"text-align: right;\">\n",
       "      <th></th>\n",
       "      <th>Unnamed: 0</th>\n",
       "      <th>key</th>\n",
       "      <th>fare_amount</th>\n",
       "      <th>pickup_datetime</th>\n",
       "      <th>pickup_longitude</th>\n",
       "      <th>pickup_latitude</th>\n",
       "      <th>dropoff_longitude</th>\n",
       "      <th>dropoff_latitude</th>\n",
       "      <th>passenger_count</th>\n",
       "    </tr>\n",
       "  </thead>\n",
       "  <tbody>\n",
       "    <tr>\n",
       "      <th>0</th>\n",
       "      <td>24238194</td>\n",
       "      <td>2015-05-07 19:52:06.0000003</td>\n",
       "      <td>7.5</td>\n",
       "      <td>2015-05-07 19:52:06 UTC</td>\n",
       "      <td>-73.999817</td>\n",
       "      <td>40.738354</td>\n",
       "      <td>-73.999512</td>\n",
       "      <td>40.723217</td>\n",
       "      <td>1</td>\n",
       "    </tr>\n",
       "    <tr>\n",
       "      <th>1</th>\n",
       "      <td>27835199</td>\n",
       "      <td>2009-07-17 20:04:56.0000002</td>\n",
       "      <td>7.7</td>\n",
       "      <td>2009-07-17 20:04:56 UTC</td>\n",
       "      <td>-73.994355</td>\n",
       "      <td>40.728225</td>\n",
       "      <td>-73.994710</td>\n",
       "      <td>40.750325</td>\n",
       "      <td>1</td>\n",
       "    </tr>\n",
       "    <tr>\n",
       "      <th>2</th>\n",
       "      <td>44984355</td>\n",
       "      <td>2009-08-24 21:45:00.00000061</td>\n",
       "      <td>12.9</td>\n",
       "      <td>2009-08-24 21:45:00 UTC</td>\n",
       "      <td>-74.005043</td>\n",
       "      <td>40.740770</td>\n",
       "      <td>-73.962565</td>\n",
       "      <td>40.772647</td>\n",
       "      <td>1</td>\n",
       "    </tr>\n",
       "    <tr>\n",
       "      <th>3</th>\n",
       "      <td>25894730</td>\n",
       "      <td>2009-06-26 08:22:21.0000001</td>\n",
       "      <td>5.3</td>\n",
       "      <td>2009-06-26 08:22:21 UTC</td>\n",
       "      <td>-73.976124</td>\n",
       "      <td>40.790844</td>\n",
       "      <td>-73.965316</td>\n",
       "      <td>40.803349</td>\n",
       "      <td>3</td>\n",
       "    </tr>\n",
       "    <tr>\n",
       "      <th>4</th>\n",
       "      <td>17610152</td>\n",
       "      <td>2014-08-28 17:47:00.000000188</td>\n",
       "      <td>16.0</td>\n",
       "      <td>2014-08-28 17:47:00 UTC</td>\n",
       "      <td>-73.925023</td>\n",
       "      <td>40.744085</td>\n",
       "      <td>-73.973082</td>\n",
       "      <td>40.761247</td>\n",
       "      <td>5</td>\n",
       "    </tr>\n",
       "  </tbody>\n",
       "</table>\n",
       "</div>"
      ],
      "text/plain": [
       "   Unnamed: 0                            key  fare_amount  \\\n",
       "0    24238194    2015-05-07 19:52:06.0000003          7.5   \n",
       "1    27835199    2009-07-17 20:04:56.0000002          7.7   \n",
       "2    44984355   2009-08-24 21:45:00.00000061         12.9   \n",
       "3    25894730    2009-06-26 08:22:21.0000001          5.3   \n",
       "4    17610152  2014-08-28 17:47:00.000000188         16.0   \n",
       "\n",
       "           pickup_datetime  pickup_longitude  pickup_latitude  \\\n",
       "0  2015-05-07 19:52:06 UTC        -73.999817        40.738354   \n",
       "1  2009-07-17 20:04:56 UTC        -73.994355        40.728225   \n",
       "2  2009-08-24 21:45:00 UTC        -74.005043        40.740770   \n",
       "3  2009-06-26 08:22:21 UTC        -73.976124        40.790844   \n",
       "4  2014-08-28 17:47:00 UTC        -73.925023        40.744085   \n",
       "\n",
       "   dropoff_longitude  dropoff_latitude  passenger_count  \n",
       "0         -73.999512         40.723217                1  \n",
       "1         -73.994710         40.750325                1  \n",
       "2         -73.962565         40.772647                1  \n",
       "3         -73.965316         40.803349                3  \n",
       "4         -73.973082         40.761247                5  "
      ]
     },
     "execution_count": 56,
     "metadata": {},
     "output_type": "execute_result"
    }
   ],
   "source": [
    "uber= pd.read_csv(r'C:\\Users\\ADMIN\\OneDrive\\Desktop\\uber.csv')\n",
    "uber.head()"
   ]
  },
  {
   "cell_type": "code",
   "execution_count": 4,
   "metadata": {
    "colab": {
     "base_uri": "https://localhost:8080/"
    },
    "id": "uVmggipclMqU",
    "outputId": "f3580e20-9a74-48b6-a0c1-6cd15b75ceb3"
   },
   "outputs": [
    {
     "name": "stdout",
     "output_type": "stream",
     "text": [
      "<class 'pandas.core.frame.DataFrame'>\n",
      "RangeIndex: 200000 entries, 0 to 199999\n",
      "Data columns (total 9 columns):\n",
      " #   Column             Non-Null Count   Dtype  \n",
      "---  ------             --------------   -----  \n",
      " 0   Unnamed: 0         200000 non-null  int64  \n",
      " 1   key                200000 non-null  object \n",
      " 2   fare_amount        200000 non-null  float64\n",
      " 3   pickup_datetime    200000 non-null  object \n",
      " 4   pickup_longitude   200000 non-null  float64\n",
      " 5   pickup_latitude    200000 non-null  float64\n",
      " 6   dropoff_longitude  199999 non-null  float64\n",
      " 7   dropoff_latitude   199999 non-null  float64\n",
      " 8   passenger_count    200000 non-null  int64  \n",
      "dtypes: float64(5), int64(2), object(2)\n",
      "memory usage: 13.7+ MB\n"
     ]
    }
   ],
   "source": [
    "uber.info()"
   ]
  },
  {
   "cell_type": "code",
   "execution_count": 5,
   "metadata": {
    "colab": {
     "base_uri": "https://localhost:8080/"
    },
    "id": "n3RjNJRIerQc",
    "outputId": "2997a50c-74e5-44dd-8a1a-b1f7bda04669"
   },
   "outputs": [
    {
     "data": {
      "text/plain": [
       "Unnamed: 0           0\n",
       "key                  0\n",
       "fare_amount          0\n",
       "pickup_datetime      0\n",
       "pickup_longitude     0\n",
       "pickup_latitude      0\n",
       "dropoff_longitude    1\n",
       "dropoff_latitude     1\n",
       "passenger_count      0\n",
       "dtype: int64"
      ]
     },
     "execution_count": 5,
     "metadata": {},
     "output_type": "execute_result"
    }
   ],
   "source": [
    "uber.isnull().sum()"
   ]
  },
  {
   "cell_type": "markdown",
   "metadata": {
    "id": "HIXhmt4nHQtW"
   },
   "source": [
    "# Handle Missing Data\n",
    "we delete first and second column.\n",
    "because keys and id are not useful for pediction."
   ]
  },
  {
   "cell_type": "code",
   "execution_count": 6,
   "metadata": {
    "id": "1b44N5jogE0E"
   },
   "outputs": [],
   "source": [
    "uber_2=uber.drop(['Unnamed: 0','key'],axis=1)"
   ]
  },
  {
   "cell_type": "code",
   "execution_count": 7,
   "metadata": {
    "colab": {
     "base_uri": "https://localhost:8080/"
    },
    "id": "dT14iwycgLbe",
    "outputId": "70441196-597f-4f48-f139-8468584e765e"
   },
   "outputs": [
    {
     "data": {
      "text/plain": [
       "(200000, 7)"
      ]
     },
     "execution_count": 7,
     "metadata": {},
     "output_type": "execute_result"
    }
   ],
   "source": [
    "uber_2.shape"
   ]
  },
  {
   "cell_type": "code",
   "execution_count": 8,
   "metadata": {
    "colab": {
     "base_uri": "https://localhost:8080/"
    },
    "id": "7cOFrcnfJln3",
    "outputId": "7d44b661-3241-450f-885b-497f181d87f5"
   },
   "outputs": [
    {
     "data": {
      "text/plain": [
       "fare_amount          0\n",
       "pickup_datetime      0\n",
       "pickup_longitude     0\n",
       "pickup_latitude      0\n",
       "dropoff_longitude    1\n",
       "dropoff_latitude     1\n",
       "passenger_count      0\n",
       "dtype: int64"
      ]
     },
     "execution_count": 8,
     "metadata": {},
     "output_type": "execute_result"
    }
   ],
   "source": [
    "uber_2.isnull().sum()"
   ]
  },
  {
   "cell_type": "code",
   "execution_count": 9,
   "metadata": {
    "id": "Nw60nA9bgRpd"
   },
   "outputs": [],
   "source": [
    "uber_2.dropna(axis=0,inplace=True)"
   ]
  },
  {
   "cell_type": "code",
   "execution_count": 10,
   "metadata": {
    "colab": {
     "base_uri": "https://localhost:8080/"
    },
    "id": "1Y5f8figgSgu",
    "outputId": "9850930b-d11e-4851-d2d6-f1583724f43e"
   },
   "outputs": [
    {
     "data": {
      "text/plain": [
       "(199999, 7)"
      ]
     },
     "execution_count": 10,
     "metadata": {},
     "output_type": "execute_result"
    }
   ],
   "source": [
    "uber_2.shape"
   ]
  },
  {
   "cell_type": "code",
   "execution_count": 11,
   "metadata": {
    "colab": {
     "base_uri": "https://localhost:8080/"
    },
    "id": "nDgaCZQEVLBC",
    "outputId": "0c5d1e58-8934-449a-e973-40867b1b272a"
   },
   "outputs": [
    {
     "data": {
      "text/plain": [
       "fare_amount          0\n",
       "pickup_datetime      0\n",
       "pickup_longitude     0\n",
       "pickup_latitude      0\n",
       "dropoff_longitude    0\n",
       "dropoff_latitude     0\n",
       "passenger_count      0\n",
       "dtype: int64"
      ]
     },
     "execution_count": 11,
     "metadata": {},
     "output_type": "execute_result"
    }
   ],
   "source": [
    "\n",
    "uber_2.isnull().sum()"
   ]
  },
  {
   "cell_type": "code",
   "execution_count": 12,
   "metadata": {
    "colab": {
     "base_uri": "https://localhost:8080/",
     "height": 206
    },
    "id": "_k-OgGltVPFs",
    "outputId": "060b4c12-74ac-42cc-c7ee-e6bb43a08e0e"
   },
   "outputs": [
    {
     "data": {
      "text/html": [
       "<div>\n",
       "<style scoped>\n",
       "    .dataframe tbody tr th:only-of-type {\n",
       "        vertical-align: middle;\n",
       "    }\n",
       "\n",
       "    .dataframe tbody tr th {\n",
       "        vertical-align: top;\n",
       "    }\n",
       "\n",
       "    .dataframe thead th {\n",
       "        text-align: right;\n",
       "    }\n",
       "</style>\n",
       "<table border=\"1\" class=\"dataframe\">\n",
       "  <thead>\n",
       "    <tr style=\"text-align: right;\">\n",
       "      <th></th>\n",
       "      <th>fare_amount</th>\n",
       "      <th>pickup_datetime</th>\n",
       "      <th>pickup_longitude</th>\n",
       "      <th>pickup_latitude</th>\n",
       "      <th>dropoff_longitude</th>\n",
       "      <th>dropoff_latitude</th>\n",
       "      <th>passenger_count</th>\n",
       "    </tr>\n",
       "  </thead>\n",
       "  <tbody>\n",
       "    <tr>\n",
       "      <th>0</th>\n",
       "      <td>7.5</td>\n",
       "      <td>2015-05-07 19:52:06 UTC</td>\n",
       "      <td>-73.999817</td>\n",
       "      <td>40.738354</td>\n",
       "      <td>-73.999512</td>\n",
       "      <td>40.723217</td>\n",
       "      <td>1</td>\n",
       "    </tr>\n",
       "    <tr>\n",
       "      <th>1</th>\n",
       "      <td>7.7</td>\n",
       "      <td>2009-07-17 20:04:56 UTC</td>\n",
       "      <td>-73.994355</td>\n",
       "      <td>40.728225</td>\n",
       "      <td>-73.994710</td>\n",
       "      <td>40.750325</td>\n",
       "      <td>1</td>\n",
       "    </tr>\n",
       "    <tr>\n",
       "      <th>2</th>\n",
       "      <td>12.9</td>\n",
       "      <td>2009-08-24 21:45:00 UTC</td>\n",
       "      <td>-74.005043</td>\n",
       "      <td>40.740770</td>\n",
       "      <td>-73.962565</td>\n",
       "      <td>40.772647</td>\n",
       "      <td>1</td>\n",
       "    </tr>\n",
       "    <tr>\n",
       "      <th>3</th>\n",
       "      <td>5.3</td>\n",
       "      <td>2009-06-26 08:22:21 UTC</td>\n",
       "      <td>-73.976124</td>\n",
       "      <td>40.790844</td>\n",
       "      <td>-73.965316</td>\n",
       "      <td>40.803349</td>\n",
       "      <td>3</td>\n",
       "    </tr>\n",
       "    <tr>\n",
       "      <th>4</th>\n",
       "      <td>16.0</td>\n",
       "      <td>2014-08-28 17:47:00 UTC</td>\n",
       "      <td>-73.925023</td>\n",
       "      <td>40.744085</td>\n",
       "      <td>-73.973082</td>\n",
       "      <td>40.761247</td>\n",
       "      <td>5</td>\n",
       "    </tr>\n",
       "  </tbody>\n",
       "</table>\n",
       "</div>"
      ],
      "text/plain": [
       "   fare_amount          pickup_datetime  pickup_longitude  pickup_latitude  \\\n",
       "0          7.5  2015-05-07 19:52:06 UTC        -73.999817        40.738354   \n",
       "1          7.7  2009-07-17 20:04:56 UTC        -73.994355        40.728225   \n",
       "2         12.9  2009-08-24 21:45:00 UTC        -74.005043        40.740770   \n",
       "3          5.3  2009-06-26 08:22:21 UTC        -73.976124        40.790844   \n",
       "4         16.0  2014-08-28 17:47:00 UTC        -73.925023        40.744085   \n",
       "\n",
       "   dropoff_longitude  dropoff_latitude  passenger_count  \n",
       "0         -73.999512         40.723217                1  \n",
       "1         -73.994710         40.750325                1  \n",
       "2         -73.962565         40.772647                1  \n",
       "3         -73.965316         40.803349                3  \n",
       "4         -73.973082         40.761247                5  "
      ]
     },
     "execution_count": 12,
     "metadata": {},
     "output_type": "execute_result"
    }
   ],
   "source": [
    "uber_2.head()"
   ]
  },
  {
   "cell_type": "markdown",
   "metadata": {
    "id": "K9OVMbIEKNQ5"
   },
   "source": [
    "## **Harvesine formula**\n",
    "![](https://www.geeksforgeeks.org/wp-content/ql-cache/quicklatex.com-7b7d66229e4a0b6c7bbf52b95a807dc4_l3.svg)\n",
    "\n",
    "Calculatin the distance between the pickup and drop co-ordinates using the Haversine formual for accuracy.\n",
    "\n",
    "\n"
   ]
  },
  {
   "cell_type": "code",
   "execution_count": 13,
   "metadata": {
    "id": "04XmFOC9VUzW"
   },
   "outputs": [],
   "source": [
    "def haversine (lon_1, lon_2, lat_1, lat_2):\n",
    "\n",
    "    lon_1, lon_2, lat_1, lat_2 = map(np.radians, [lon_1, lon_2, lat_1, lat_2])  #Degrees to Radians\n",
    "\n",
    "\n",
    "    diff_lon = lon_2 - lon_1\n",
    "    diff_lat = lat_2 - lat_1\n",
    "\n",
    "    #  r=6371.0  earth radius in km\n",
    "    km = 2 * 6371 * np.arcsin(np.sqrt(np.sin(diff_lat/2.0)**2 +\n",
    "                                      np.cos(lat_1) * np.cos(lat_2) * np.sin(diff_lon/2.0)**2))\n",
    "\n",
    "    return km"
   ]
  },
  {
   "cell_type": "code",
   "execution_count": 14,
   "metadata": {
    "id": "xwKmKPds1UNC"
   },
   "outputs": [],
   "source": [
    "uber_2['Distance']= haversine(uber_2['pickup_longitude'],uber_2['dropoff_longitude'],\n",
    "                             uber_2['pickup_latitude'],uber_2['dropoff_latitude'])\n",
    "\n",
    "uber_2['Distance'] = uber_2['Distance'].astype(float).round(2)"
   ]
  },
  {
   "cell_type": "code",
   "execution_count": 15,
   "metadata": {
    "colab": {
     "base_uri": "https://localhost:8080/",
     "height": 206
    },
    "id": "E80sH1cD1VBw",
    "outputId": "db47ea9a-e673-4825-854f-636a0625b55e"
   },
   "outputs": [
    {
     "data": {
      "text/html": [
       "<div>\n",
       "<style scoped>\n",
       "    .dataframe tbody tr th:only-of-type {\n",
       "        vertical-align: middle;\n",
       "    }\n",
       "\n",
       "    .dataframe tbody tr th {\n",
       "        vertical-align: top;\n",
       "    }\n",
       "\n",
       "    .dataframe thead th {\n",
       "        text-align: right;\n",
       "    }\n",
       "</style>\n",
       "<table border=\"1\" class=\"dataframe\">\n",
       "  <thead>\n",
       "    <tr style=\"text-align: right;\">\n",
       "      <th></th>\n",
       "      <th>fare_amount</th>\n",
       "      <th>pickup_datetime</th>\n",
       "      <th>pickup_longitude</th>\n",
       "      <th>pickup_latitude</th>\n",
       "      <th>dropoff_longitude</th>\n",
       "      <th>dropoff_latitude</th>\n",
       "      <th>passenger_count</th>\n",
       "      <th>Distance</th>\n",
       "    </tr>\n",
       "  </thead>\n",
       "  <tbody>\n",
       "    <tr>\n",
       "      <th>0</th>\n",
       "      <td>7.5</td>\n",
       "      <td>2015-05-07 19:52:06 UTC</td>\n",
       "      <td>-73.999817</td>\n",
       "      <td>40.738354</td>\n",
       "      <td>-73.999512</td>\n",
       "      <td>40.723217</td>\n",
       "      <td>1</td>\n",
       "      <td>1.68</td>\n",
       "    </tr>\n",
       "    <tr>\n",
       "      <th>1</th>\n",
       "      <td>7.7</td>\n",
       "      <td>2009-07-17 20:04:56 UTC</td>\n",
       "      <td>-73.994355</td>\n",
       "      <td>40.728225</td>\n",
       "      <td>-73.994710</td>\n",
       "      <td>40.750325</td>\n",
       "      <td>1</td>\n",
       "      <td>2.46</td>\n",
       "    </tr>\n",
       "    <tr>\n",
       "      <th>2</th>\n",
       "      <td>12.9</td>\n",
       "      <td>2009-08-24 21:45:00 UTC</td>\n",
       "      <td>-74.005043</td>\n",
       "      <td>40.740770</td>\n",
       "      <td>-73.962565</td>\n",
       "      <td>40.772647</td>\n",
       "      <td>1</td>\n",
       "      <td>5.04</td>\n",
       "    </tr>\n",
       "    <tr>\n",
       "      <th>3</th>\n",
       "      <td>5.3</td>\n",
       "      <td>2009-06-26 08:22:21 UTC</td>\n",
       "      <td>-73.976124</td>\n",
       "      <td>40.790844</td>\n",
       "      <td>-73.965316</td>\n",
       "      <td>40.803349</td>\n",
       "      <td>3</td>\n",
       "      <td>1.66</td>\n",
       "    </tr>\n",
       "    <tr>\n",
       "      <th>4</th>\n",
       "      <td>16.0</td>\n",
       "      <td>2014-08-28 17:47:00 UTC</td>\n",
       "      <td>-73.925023</td>\n",
       "      <td>40.744085</td>\n",
       "      <td>-73.973082</td>\n",
       "      <td>40.761247</td>\n",
       "      <td>5</td>\n",
       "      <td>4.48</td>\n",
       "    </tr>\n",
       "  </tbody>\n",
       "</table>\n",
       "</div>"
      ],
      "text/plain": [
       "   fare_amount          pickup_datetime  pickup_longitude  pickup_latitude  \\\n",
       "0          7.5  2015-05-07 19:52:06 UTC        -73.999817        40.738354   \n",
       "1          7.7  2009-07-17 20:04:56 UTC        -73.994355        40.728225   \n",
       "2         12.9  2009-08-24 21:45:00 UTC        -74.005043        40.740770   \n",
       "3          5.3  2009-06-26 08:22:21 UTC        -73.976124        40.790844   \n",
       "4         16.0  2014-08-28 17:47:00 UTC        -73.925023        40.744085   \n",
       "\n",
       "   dropoff_longitude  dropoff_latitude  passenger_count  Distance  \n",
       "0         -73.999512         40.723217                1      1.68  \n",
       "1         -73.994710         40.750325                1      2.46  \n",
       "2         -73.962565         40.772647                1      5.04  \n",
       "3         -73.965316         40.803349                3      1.66  \n",
       "4         -73.973082         40.761247                5      4.48  "
      ]
     },
     "execution_count": 15,
     "metadata": {},
     "output_type": "execute_result"
    }
   ],
   "source": [
    "uber_2.head()"
   ]
  },
  {
   "cell_type": "markdown",
   "metadata": {
    "id": "NVmP72J4TMem"
   },
   "source": [
    "## **Scatter plot**\n",
    " scatter plot is a type of graph that shows the relationship between two sets of data. It uses dots to represent each data point, with one set of data shown on the horizontal axis and the other set of data shown on the vertical axis.\n",
    "\n",
    " we take Distance and Fare amount"
   ]
  },
  {
   "cell_type": "code",
   "execution_count": 16,
   "metadata": {
    "colab": {
     "base_uri": "https://localhost:8080/",
     "height": 466
    },
    "id": "D3UAaJyuTX3y",
    "outputId": "982cba3a-46e4-4e82-e409-f32f5426d128"
   },
   "outputs": [
    {
     "data": {
      "text/plain": [
       "Text(0, 0.5, 'fare_amount')"
      ]
     },
     "execution_count": 16,
     "metadata": {},
     "output_type": "execute_result"
    },
    {
     "data": {
      "image/png": "[encoded data removed]",
      "text/plain": [
       "<Figure size 640x480 with 1 Axes>"
      ]
     },
     "metadata": {},
     "output_type": "display_data"
    }
   ],
   "source": [
    "\n",
    "plt.scatter(uber_2['Distance'], uber_2['fare_amount'])\n",
    "plt.xlabel(\"Distance\")\n",
    "plt.ylabel(\"fare_amount\")"
   ]
  },
  {
   "cell_type": "markdown",
   "metadata": {
    "id": "cy0ybd5LUY9S"
   },
   "source": [
    "### OUTLIERS"
   ]
  },
  {
   "cell_type": "markdown",
   "metadata": {
    "id": "04vtGuQUUhBW"
   },
   "source": [
    "We can get rid of the trips with very large distances that are outliers as well as trips with 0 distance."
   ]
  },
  {
   "cell_type": "code",
   "execution_count": 17,
   "metadata": {
    "id": "PtHU1IG0UmVu"
   },
   "outputs": [],
   "source": [
    "uber_2.drop(uber_2[uber_2['Distance'] > 60].index, inplace = True)\n",
    "uber_2.drop(uber_2[uber_2['Distance'] == 0].index, inplace = True)\n",
    "uber_2.drop(uber_2[uber_2['Distance'] < 0].index, inplace = True)\n",
    "\n",
    "uber_2.drop(uber_2[uber_2['fare_amount'] == 0].index, inplace = True)\n",
    "uber_2.drop(uber_2[uber_2['fare_amount'] < 0].index, inplace = True)"
   ]
  },
  {
   "cell_type": "code",
   "execution_count": 18,
   "metadata": {
    "colab": {
     "base_uri": "https://localhost:8080/",
     "height": 466
    },
    "id": "siDZ3ImpVXAj",
    "outputId": "7a2b8c87-9085-4c17-ad98-d5aaebf21597"
   },
   "outputs": [
    {
     "data": {
      "text/plain": [
       "Text(0, 0.5, 'fare_amount')"
      ]
     },
     "execution_count": 18,
     "metadata": {},
     "output_type": "execute_result"
    },
    {
     "data": {
      "image/png": "[encoded data removed]",
      "text/plain": [
       "<Figure size 640x480 with 1 Axes>"
      ]
     },
     "metadata": {},
     "output_type": "display_data"
    }
   ],
   "source": [
    "plt.scatter(uber_2['Distance'], uber_2['fare_amount'])\n",
    "plt.xlabel(\"Distance\")\n",
    "plt.ylabel(\"fare_amount\")"
   ]
  },
  {
   "cell_type": "code",
   "execution_count": 19,
   "metadata": {
    "colab": {
     "base_uri": "https://localhost:8080/"
    },
    "id": "MvQNhk-7VoTA",
    "outputId": "e0d30670-9c63-4ce3-efab-da4cb863458e"
   },
   "outputs": [
    {
     "data": {
      "text/plain": [
       "(193490, 8)"
      ]
     },
     "execution_count": 19,
     "metadata": {},
     "output_type": "execute_result"
    }
   ],
   "source": [
    "uber_2.shape"
   ]
  },
  {
   "cell_type": "code",
   "execution_count": 20,
   "metadata": {
    "id": "eKCSv-uPWc_m"
   },
   "outputs": [],
   "source": [
    "uber_3=uber_2.drop(uber_2[uber_2['Distance'] <1].index)"
   ]
  },
  {
   "cell_type": "code",
   "execution_count": 21,
   "metadata": {
    "colab": {
     "base_uri": "https://localhost:8080/"
    },
    "id": "nxv-l5MuWodO",
    "outputId": "756b4b6c-4695-42ec-e59a-454bb9e3a35e"
   },
   "outputs": [
    {
     "data": {
      "text/plain": [
       "(163894, 8)"
      ]
     },
     "execution_count": 21,
     "metadata": {},
     "output_type": "execute_result"
    }
   ],
   "source": [
    "uber_3.shape"
   ]
  },
  {
   "cell_type": "code",
   "execution_count": 22,
   "metadata": {
    "id": "rwlQIVC4WrMr"
   },
   "outputs": [],
   "source": [
    "uber_2.drop(uber_2[uber_2['fare_amount'] > 100].index, inplace = True)"
   ]
  },
  {
   "cell_type": "code",
   "execution_count": 23,
   "metadata": {
    "colab": {
     "base_uri": "https://localhost:8080/"
    },
    "id": "-0XJV4PZW-Zx",
    "outputId": "a8b3e34a-7d9b-4182-8350-152d72f93930"
   },
   "outputs": [
    {
     "data": {
      "text/plain": [
       "(193436, 8)"
      ]
     },
     "execution_count": 23,
     "metadata": {},
     "output_type": "execute_result"
    }
   ],
   "source": [
    "uber_2.shape"
   ]
  },
  {
   "cell_type": "code",
   "execution_count": 24,
   "metadata": {
    "id": "AbRc4LCGXATM"
   },
   "outputs": [],
   "source": [
    "uber_2.drop(uber_2[ (uber_2['Distance']<1)].index, inplace = True )"
   ]
  },
  {
   "cell_type": "code",
   "execution_count": 25,
   "metadata": {
    "colab": {
     "base_uri": "https://localhost:8080/"
    },
    "id": "ZWxSqc_IXUuR",
    "outputId": "b5091f03-4899-4403-a79c-17abb6b336cc"
   },
   "outputs": [
    {
     "data": {
      "text/plain": [
       "(163849, 8)"
      ]
     },
     "execution_count": 25,
     "metadata": {},
     "output_type": "execute_result"
    }
   ],
   "source": [
    "uber_2.shape"
   ]
  },
  {
   "cell_type": "code",
   "execution_count": 26,
   "metadata": {
    "colab": {
     "base_uri": "https://localhost:8080/"
    },
    "id": "afSpXYlFXWKG",
    "outputId": "e0ca56f2-f796-476d-96f8-a18e59b3e541"
   },
   "outputs": [
    {
     "name": "stdout",
     "output_type": "stream",
     "text": [
      "<class 'pandas.core.frame.DataFrame'>\n",
      "Index: 163849 entries, 0 to 199999\n",
      "Data columns (total 8 columns):\n",
      " #   Column             Non-Null Count   Dtype  \n",
      "---  ------             --------------   -----  \n",
      " 0   fare_amount        163849 non-null  float64\n",
      " 1   pickup_datetime    163849 non-null  object \n",
      " 2   pickup_longitude   163849 non-null  float64\n",
      " 3   pickup_latitude    163849 non-null  float64\n",
      " 4   dropoff_longitude  163849 non-null  float64\n",
      " 5   dropoff_latitude   163849 non-null  float64\n",
      " 6   passenger_count    163849 non-null  int64  \n",
      " 7   Distance           163849 non-null  float64\n",
      "dtypes: float64(6), int64(1), object(1)\n",
      "memory usage: 11.3+ MB\n"
     ]
    }
   ],
   "source": [
    "uber_2.info()"
   ]
  },
  {
   "cell_type": "code",
   "execution_count": 27,
   "metadata": {
    "colab": {
     "base_uri": "https://localhost:8080/",
     "height": 466
    },
    "id": "xlVCNqVMXqhw",
    "outputId": "3c4374b5-1af2-497e-b866-d60d154d751f"
   },
   "outputs": [
    {
     "data": {
      "text/plain": [
       "Text(0, 0.5, 'fare_amount')"
      ]
     },
     "execution_count": 27,
     "metadata": {},
     "output_type": "execute_result"
    },
    {
     "data": {
      "image/png": "[encoded data removed]",
      "text/plain": [
       "<Figure size 640x480 with 1 Axes>"
      ]
     },
     "metadata": {},
     "output_type": "display_data"
    }
   ],
   "source": [
    "plt.scatter(uber_2['Distance'], uber_2['fare_amount'])\n",
    "plt.xlabel(\"Distance\")\n",
    "plt.ylabel(\"fare_amount\")"
   ]
  },
  {
   "cell_type": "code",
   "execution_count": 28,
   "metadata": {
    "colab": {
     "base_uri": "https://localhost:8080/"
    },
    "id": "VLMmTjj5YFp0",
    "outputId": "65c8ebb3-1c56-49e0-bd3d-4372a42c0750"
   },
   "outputs": [
    {
     "data": {
      "text/plain": [
       "(163849, 8)"
      ]
     },
     "execution_count": 28,
     "metadata": {},
     "output_type": "execute_result"
    }
   ],
   "source": [
    "uber_2.shape"
   ]
  },
  {
   "cell_type": "markdown",
   "metadata": {
    "id": "Pgl7plN4eNJm"
   },
   "source": [
    "## **Date and Time**"
   ]
  },
  {
   "cell_type": "markdown",
   "metadata": {
    "id": "sSBmlQ4MeXJi"
   },
   "source": [
    "Separating the date and time into separate columns for more usability."
   ]
  },
  {
   "cell_type": "code",
   "execution_count": 29,
   "metadata": {
    "id": "nYSRWPKoYKf-"
   },
   "outputs": [],
   "source": [
    "uber_2['pickup_datetime'] = pd.to_datetime(uber_2['pickup_datetime'])\n",
    "\n",
    "uber_2['Year'] = uber_2['pickup_datetime'].apply(lambda time: time.year)\n",
    "uber_2['Month'] = uber_2['pickup_datetime'].apply(lambda time: time.month)\n",
    "uber_2['Day'] = uber_2['pickup_datetime'].apply(lambda time: time.day)\n",
    "uber_2['Day of Week'] = uber_2['pickup_datetime'].apply(lambda time: time.dayofweek)\n",
    "uber_2['Day of Week_num'] = uber_2['pickup_datetime'].apply(lambda time: time.dayofweek)\n",
    "uber_2['Hour'] = uber_2['pickup_datetime'].apply(lambda time: time.hour)\n",
    "\n",
    "day_map = {0:'Mon',1:'Tue',2:'Wed',3:'Thu',4:'Fri',5:'Sat',6:'Sun'}\n",
    "uber_2['Day of Week'] = uber_2['Day of Week'].map(day_map)\n",
    "\n",
    "uber_2['counter'] = 1"
   ]
  },
  {
   "cell_type": "code",
   "execution_count": 30,
   "metadata": {
    "colab": {
     "base_uri": "https://localhost:8080/"
    },
    "id": "7u43WsD_YL4R",
    "outputId": "39dbe50f-2764-4c44-c1d7-65e976e1b581"
   },
   "outputs": [
    {
     "data": {
      "text/plain": [
       "(163849, 15)"
      ]
     },
     "execution_count": 30,
     "metadata": {},
     "output_type": "execute_result"
    }
   ],
   "source": [
    "uber_2.shape"
   ]
  },
  {
   "cell_type": "code",
   "execution_count": 31,
   "metadata": {
    "colab": {
     "base_uri": "https://localhost:8080/",
     "height": 310
    },
    "id": "7ZNj1QEwgYFO",
    "outputId": "20d849c9-5759-42c9-ba16-d06c104eb8f5"
   },
   "outputs": [
    {
     "data": {
      "text/html": [
       "<div>\n",
       "<style scoped>\n",
       "    .dataframe tbody tr th:only-of-type {\n",
       "        vertical-align: middle;\n",
       "    }\n",
       "\n",
       "    .dataframe tbody tr th {\n",
       "        vertical-align: top;\n",
       "    }\n",
       "\n",
       "    .dataframe thead th {\n",
       "        text-align: right;\n",
       "    }\n",
       "</style>\n",
       "<table border=\"1\" class=\"dataframe\">\n",
       "  <thead>\n",
       "    <tr style=\"text-align: right;\">\n",
       "      <th></th>\n",
       "      <th>fare_amount</th>\n",
       "      <th>pickup_datetime</th>\n",
       "      <th>pickup_longitude</th>\n",
       "      <th>pickup_latitude</th>\n",
       "      <th>dropoff_longitude</th>\n",
       "      <th>dropoff_latitude</th>\n",
       "      <th>passenger_count</th>\n",
       "      <th>Distance</th>\n",
       "      <th>Year</th>\n",
       "      <th>Month</th>\n",
       "      <th>Day</th>\n",
       "      <th>Day of Week</th>\n",
       "      <th>Day of Week_num</th>\n",
       "      <th>Hour</th>\n",
       "      <th>counter</th>\n",
       "    </tr>\n",
       "  </thead>\n",
       "  <tbody>\n",
       "    <tr>\n",
       "      <th>0</th>\n",
       "      <td>7.5</td>\n",
       "      <td>2015-05-07 19:52:06+00:00</td>\n",
       "      <td>-73.999817</td>\n",
       "      <td>40.738354</td>\n",
       "      <td>-73.999512</td>\n",
       "      <td>40.723217</td>\n",
       "      <td>1</td>\n",
       "      <td>1.68</td>\n",
       "      <td>2015</td>\n",
       "      <td>5</td>\n",
       "      <td>7</td>\n",
       "      <td>Thu</td>\n",
       "      <td>3</td>\n",
       "      <td>19</td>\n",
       "      <td>1</td>\n",
       "    </tr>\n",
       "    <tr>\n",
       "      <th>1</th>\n",
       "      <td>7.7</td>\n",
       "      <td>2009-07-17 20:04:56+00:00</td>\n",
       "      <td>-73.994355</td>\n",
       "      <td>40.728225</td>\n",
       "      <td>-73.994710</td>\n",
       "      <td>40.750325</td>\n",
       "      <td>1</td>\n",
       "      <td>2.46</td>\n",
       "      <td>2009</td>\n",
       "      <td>7</td>\n",
       "      <td>17</td>\n",
       "      <td>Fri</td>\n",
       "      <td>4</td>\n",
       "      <td>20</td>\n",
       "      <td>1</td>\n",
       "    </tr>\n",
       "    <tr>\n",
       "      <th>2</th>\n",
       "      <td>12.9</td>\n",
       "      <td>2009-08-24 21:45:00+00:00</td>\n",
       "      <td>-74.005043</td>\n",
       "      <td>40.740770</td>\n",
       "      <td>-73.962565</td>\n",
       "      <td>40.772647</td>\n",
       "      <td>1</td>\n",
       "      <td>5.04</td>\n",
       "      <td>2009</td>\n",
       "      <td>8</td>\n",
       "      <td>24</td>\n",
       "      <td>Mon</td>\n",
       "      <td>0</td>\n",
       "      <td>21</td>\n",
       "      <td>1</td>\n",
       "    </tr>\n",
       "    <tr>\n",
       "      <th>3</th>\n",
       "      <td>5.3</td>\n",
       "      <td>2009-06-26 08:22:21+00:00</td>\n",
       "      <td>-73.976124</td>\n",
       "      <td>40.790844</td>\n",
       "      <td>-73.965316</td>\n",
       "      <td>40.803349</td>\n",
       "      <td>3</td>\n",
       "      <td>1.66</td>\n",
       "      <td>2009</td>\n",
       "      <td>6</td>\n",
       "      <td>26</td>\n",
       "      <td>Fri</td>\n",
       "      <td>4</td>\n",
       "      <td>8</td>\n",
       "      <td>1</td>\n",
       "    </tr>\n",
       "    <tr>\n",
       "      <th>4</th>\n",
       "      <td>16.0</td>\n",
       "      <td>2014-08-28 17:47:00+00:00</td>\n",
       "      <td>-73.925023</td>\n",
       "      <td>40.744085</td>\n",
       "      <td>-73.973082</td>\n",
       "      <td>40.761247</td>\n",
       "      <td>5</td>\n",
       "      <td>4.48</td>\n",
       "      <td>2014</td>\n",
       "      <td>8</td>\n",
       "      <td>28</td>\n",
       "      <td>Thu</td>\n",
       "      <td>3</td>\n",
       "      <td>17</td>\n",
       "      <td>1</td>\n",
       "    </tr>\n",
       "  </tbody>\n",
       "</table>\n",
       "</div>"
      ],
      "text/plain": [
       "   fare_amount           pickup_datetime  pickup_longitude  pickup_latitude  \\\n",
       "0          7.5 2015-05-07 19:52:06+00:00        -73.999817        40.738354   \n",
       "1          7.7 2009-07-17 20:04:56+00:00        -73.994355        40.728225   \n",
       "2         12.9 2009-08-24 21:45:00+00:00        -74.005043        40.740770   \n",
       "3          5.3 2009-06-26 08:22:21+00:00        -73.976124        40.790844   \n",
       "4         16.0 2014-08-28 17:47:00+00:00        -73.925023        40.744085   \n",
       "\n",
       "   dropoff_longitude  dropoff_latitude  passenger_count  Distance  Year  \\\n",
       "0         -73.999512         40.723217                1      1.68  2015   \n",
       "1         -73.994710         40.750325                1      2.46  2009   \n",
       "2         -73.962565         40.772647                1      5.04  2009   \n",
       "3         -73.965316         40.803349                3      1.66  2009   \n",
       "4         -73.973082         40.761247                5      4.48  2014   \n",
       "\n",
       "   Month  Day Day of Week  Day of Week_num  Hour  counter  \n",
       "0      5    7         Thu                3    19        1  \n",
       "1      7   17         Fri                4    20        1  \n",
       "2      8   24         Mon                0    21        1  \n",
       "3      6   26         Fri                4     8        1  \n",
       "4      8   28         Thu                3    17        1  "
      ]
     },
     "execution_count": 31,
     "metadata": {},
     "output_type": "execute_result"
    }
   ],
   "source": [
    "uber_2.head()"
   ]
  },
  {
   "cell_type": "code",
   "execution_count": 32,
   "metadata": {
    "id": "46kN_vvShMn7"
   },
   "outputs": [],
   "source": [
    "uber_2['pickup'] = uber_2['pickup_latitude'].round(3).astype(str) + \",\" + uber_2['pickup_longitude'].round(3).astype(str)\n",
    "uber_2['drop off'] = uber_2['dropoff_latitude'].round(3).astype(str) + \",\" + uber_2['dropoff_longitude'].round(3).astype(str)"
   ]
  },
  {
   "cell_type": "code",
   "execution_count": 33,
   "metadata": {
    "colab": {
     "base_uri": "https://localhost:8080/",
     "height": 348
    },
    "id": "0Ub2HY1lhMrb",
    "outputId": "d192150e-9e55-43a1-96f9-936b96c2a2f1"
   },
   "outputs": [
    {
     "data": {
      "text/html": [
       "<div>\n",
       "<style scoped>\n",
       "    .dataframe tbody tr th:only-of-type {\n",
       "        vertical-align: middle;\n",
       "    }\n",
       "\n",
       "    .dataframe tbody tr th {\n",
       "        vertical-align: top;\n",
       "    }\n",
       "\n",
       "    .dataframe thead th {\n",
       "        text-align: right;\n",
       "    }\n",
       "</style>\n",
       "<table border=\"1\" class=\"dataframe\">\n",
       "  <thead>\n",
       "    <tr style=\"text-align: right;\">\n",
       "      <th></th>\n",
       "      <th>fare_amount</th>\n",
       "      <th>pickup_datetime</th>\n",
       "      <th>pickup_longitude</th>\n",
       "      <th>pickup_latitude</th>\n",
       "      <th>dropoff_longitude</th>\n",
       "      <th>dropoff_latitude</th>\n",
       "      <th>passenger_count</th>\n",
       "      <th>Distance</th>\n",
       "      <th>Year</th>\n",
       "      <th>Month</th>\n",
       "      <th>Day</th>\n",
       "      <th>Day of Week</th>\n",
       "      <th>Day of Week_num</th>\n",
       "      <th>Hour</th>\n",
       "      <th>counter</th>\n",
       "      <th>pickup</th>\n",
       "      <th>drop off</th>\n",
       "    </tr>\n",
       "  </thead>\n",
       "  <tbody>\n",
       "    <tr>\n",
       "      <th>0</th>\n",
       "      <td>7.5</td>\n",
       "      <td>2015-05-07 19:52:06+00:00</td>\n",
       "      <td>-73.999817</td>\n",
       "      <td>40.738354</td>\n",
       "      <td>-73.999512</td>\n",
       "      <td>40.723217</td>\n",
       "      <td>1</td>\n",
       "      <td>1.68</td>\n",
       "      <td>2015</td>\n",
       "      <td>5</td>\n",
       "      <td>7</td>\n",
       "      <td>Thu</td>\n",
       "      <td>3</td>\n",
       "      <td>19</td>\n",
       "      <td>1</td>\n",
       "      <td>40.738,-74.0</td>\n",
       "      <td>40.723,-74.0</td>\n",
       "    </tr>\n",
       "    <tr>\n",
       "      <th>1</th>\n",
       "      <td>7.7</td>\n",
       "      <td>2009-07-17 20:04:56+00:00</td>\n",
       "      <td>-73.994355</td>\n",
       "      <td>40.728225</td>\n",
       "      <td>-73.994710</td>\n",
       "      <td>40.750325</td>\n",
       "      <td>1</td>\n",
       "      <td>2.46</td>\n",
       "      <td>2009</td>\n",
       "      <td>7</td>\n",
       "      <td>17</td>\n",
       "      <td>Fri</td>\n",
       "      <td>4</td>\n",
       "      <td>20</td>\n",
       "      <td>1</td>\n",
       "      <td>40.728,-73.994</td>\n",
       "      <td>40.75,-73.995</td>\n",
       "    </tr>\n",
       "    <tr>\n",
       "      <th>2</th>\n",
       "      <td>12.9</td>\n",
       "      <td>2009-08-24 21:45:00+00:00</td>\n",
       "      <td>-74.005043</td>\n",
       "      <td>40.740770</td>\n",
       "      <td>-73.962565</td>\n",
       "      <td>40.772647</td>\n",
       "      <td>1</td>\n",
       "      <td>5.04</td>\n",
       "      <td>2009</td>\n",
       "      <td>8</td>\n",
       "      <td>24</td>\n",
       "      <td>Mon</td>\n",
       "      <td>0</td>\n",
       "      <td>21</td>\n",
       "      <td>1</td>\n",
       "      <td>40.741,-74.005</td>\n",
       "      <td>40.773,-73.963</td>\n",
       "    </tr>\n",
       "    <tr>\n",
       "      <th>3</th>\n",
       "      <td>5.3</td>\n",
       "      <td>2009-06-26 08:22:21+00:00</td>\n",
       "      <td>-73.976124</td>\n",
       "      <td>40.790844</td>\n",
       "      <td>-73.965316</td>\n",
       "      <td>40.803349</td>\n",
       "      <td>3</td>\n",
       "      <td>1.66</td>\n",
       "      <td>2009</td>\n",
       "      <td>6</td>\n",
       "      <td>26</td>\n",
       "      <td>Fri</td>\n",
       "      <td>4</td>\n",
       "      <td>8</td>\n",
       "      <td>1</td>\n",
       "      <td>40.791,-73.976</td>\n",
       "      <td>40.803,-73.965</td>\n",
       "    </tr>\n",
       "    <tr>\n",
       "      <th>4</th>\n",
       "      <td>16.0</td>\n",
       "      <td>2014-08-28 17:47:00+00:00</td>\n",
       "      <td>-73.925023</td>\n",
       "      <td>40.744085</td>\n",
       "      <td>-73.973082</td>\n",
       "      <td>40.761247</td>\n",
       "      <td>5</td>\n",
       "      <td>4.48</td>\n",
       "      <td>2014</td>\n",
       "      <td>8</td>\n",
       "      <td>28</td>\n",
       "      <td>Thu</td>\n",
       "      <td>3</td>\n",
       "      <td>17</td>\n",
       "      <td>1</td>\n",
       "      <td>40.744,-73.925</td>\n",
       "      <td>40.761,-73.973</td>\n",
       "    </tr>\n",
       "  </tbody>\n",
       "</table>\n",
       "</div>"
      ],
      "text/plain": [
       "   fare_amount           pickup_datetime  pickup_longitude  pickup_latitude  \\\n",
       "0          7.5 2015-05-07 19:52:06+00:00        -73.999817        40.738354   \n",
       "1          7.7 2009-07-17 20:04:56+00:00        -73.994355        40.728225   \n",
       "2         12.9 2009-08-24 21:45:00+00:00        -74.005043        40.740770   \n",
       "3          5.3 2009-06-26 08:22:21+00:00        -73.976124        40.790844   \n",
       "4         16.0 2014-08-28 17:47:00+00:00        -73.925023        40.744085   \n",
       "\n",
       "   dropoff_longitude  dropoff_latitude  passenger_count  Distance  Year  \\\n",
       "0         -73.999512         40.723217                1      1.68  2015   \n",
       "1         -73.994710         40.750325                1      2.46  2009   \n",
       "2         -73.962565         40.772647                1      5.04  2009   \n",
       "3         -73.965316         40.803349                3      1.66  2009   \n",
       "4         -73.973082         40.761247                5      4.48  2014   \n",
       "\n",
       "   Month  Day Day of Week  Day of Week_num  Hour  counter          pickup  \\\n",
       "0      5    7         Thu                3    19        1    40.738,-74.0   \n",
       "1      7   17         Fri                4    20        1  40.728,-73.994   \n",
       "2      8   24         Mon                0    21        1  40.741,-74.005   \n",
       "3      6   26         Fri                4     8        1  40.791,-73.976   \n",
       "4      8   28         Thu                3    17        1  40.744,-73.925   \n",
       "\n",
       "         drop off  \n",
       "0    40.723,-74.0  \n",
       "1   40.75,-73.995  \n",
       "2  40.773,-73.963  \n",
       "3  40.803,-73.965  \n",
       "4  40.761,-73.973  "
      ]
     },
     "execution_count": 33,
     "metadata": {},
     "output_type": "execute_result"
    }
   ],
   "source": [
    "uber_2.head()"
   ]
  },
  {
   "cell_type": "markdown",
   "metadata": {
    "id": "_E3qe6YhimHi"
   },
   "source": [
    "### **Data Visualizations**"
   ]
  },
  {
   "cell_type": "markdown",
   "metadata": {
    "id": "41LzOwe0i1vR"
   },
   "source": [
    "Finding the trends in the data variables"
   ]
  },
  {
   "cell_type": "markdown",
   "metadata": {
    "id": "X3BTnvWxi7t9"
   },
   "source": [
    "### **Average Yearly Trips**"
   ]
  },
  {
   "cell_type": "code",
   "execution_count": 34,
   "metadata": {
    "id": "_7iy3Zeji9Kd"
   },
   "outputs": [],
   "source": [
    "no_of_trips = []\n",
    "year = [2009, 2010, 2011, 2012, 2013, 2014, 2015]\n",
    "\n",
    "colors = ['#1f77b4', '#ff7f0e', '#2ca02c', '#d62728', '#9467bd',\n",
    "          '#8c564b', '#e377c2', '#7f7f7f', '#bcbd22', '#17becf']\n"
   ]
  },
  {
   "cell_type": "code",
   "execution_count": 35,
   "metadata": {
    "colab": {
     "base_uri": "https://localhost:8080/"
    },
    "id": "Uxw3E54sJfHL",
    "outputId": "898dd330-9055-4fbf-f697-38e5e72ffa2d"
   },
   "outputs": [
    {
     "name": "stdout",
     "output_type": "stream",
     "text": [
      "24562 26086\n",
      "{2009: 24846, 2010: 24562, 2011: 26086, 2012: 26618, 2013: 25803, 2014: 24653, 2015: 11281}\n"
     ]
    }
   ],
   "source": [
    "for i in range(2009, 2016):\n",
    "    x = uber_2.loc[uber_2['Year'] == i, 'counter'].sum()\n",
    "    no_of_trips.append(x)\n",
    "# print(\"Average trips a year: \")\n",
    "# print(year, no_of_trips)\n",
    "print(no_of_trips[1],no_of_trips[2])\n",
    "year_no_trip={}\n",
    "n_tmp=0\n",
    "for i in year:\n",
    "\n",
    "  for j in range(0,len(no_of_trips)):\n",
    "    year_no_trip.update({i:no_of_trips[n_tmp]})\n",
    "    n_tmp+=1\n",
    "    break\n",
    "print(year_no_trip)"
   ]
  },
  {
   "cell_type": "code",
   "execution_count": 36,
   "metadata": {
    "colab": {
     "base_uri": "https://localhost:8080/",
     "height": 489
    },
    "id": "6cS-Wf-kKKf0",
    "outputId": "33a4d989-5ef7-4c49-d26b-54dd7083ec9e"
   },
   "outputs": [
    {
     "data": {
      "text/plain": [
       "<BarContainer object of 7 artists>"
      ]
     },
     "execution_count": 36,
     "metadata": {},
     "output_type": "execute_result"
    },
    {
     "data": {
      "image/png": "[encoded data removed]",
      "text/plain": [
       "<Figure size 640x480 with 1 Axes>"
      ]
     },
     "metadata": {},
     "output_type": "display_data"
    }
   ],
   "source": [
    "plt.title(\"Average Yearly Trips\")\n",
    "plt.xlabel(\"Years\")\n",
    "plt.ylabel(\"Number of Trips\")\n",
    "\n",
    "plt.bar(year, no_of_trips, color=colors)"
   ]
  },
  {
   "cell_type": "markdown",
   "metadata": {
    "id": "YBhb41rlOfjs"
   },
   "source": [
    "### **Average Monthly Trips**"
   ]
  },
  {
   "cell_type": "code",
   "execution_count": 37,
   "metadata": {
    "colab": {
     "base_uri": "https://localhost:8080/",
     "height": 507
    },
    "id": "ktMkQTyMOouu",
    "outputId": "13fd28d6-40ab-4fda-a30d-ed1a92a57b4a"
   },
   "outputs": [
    {
     "name": "stdout",
     "output_type": "stream",
     "text": [
      "{'Jan': 14243, 'Feb': 13511, 'Mar': 15321, 'Apr': 15269, 'May': 15576, 'Jun': 14628, 'Jul': 12460, 'Aug': 11701, 'Sep': 12553, 'Oct': 13301, 'Nov': 12685, 'Dec': 12601}\n"
     ]
    },
    {
     "data": {
      "text/plain": [
       "<BarContainer object of 12 artists>"
      ]
     },
     "execution_count": 37,
     "metadata": {},
     "output_type": "execute_result"
    },
    {
     "data": {
      "image/png": "[encoded data removed]",
      "text/plain": [
       "<Figure size 640x480 with 1 Axes>"
      ]
     },
     "metadata": {},
     "output_type": "display_data"
    }
   ],
   "source": [
    "no_of_trips = []\n",
    "month = ['Jan', 'Feb', 'Mar', 'Apr', 'May', 'Jun', 'Jul', 'Aug', 'Sep', 'Oct', 'Nov', 'Dec']\n",
    "\n",
    "color_list = [\n",
    "    \"#1f77b4\",  # blue\n",
    "    \"#ff7f0e\",  # orange\n",
    "    \"#2ca02c\",  # green\n",
    "    \"#d62728\",  # red\n",
    "    \"#9467bd\",  # purple\n",
    "    \"#8c564b\",  # brown\n",
    "    \"#e377c2\",  # pink\n",
    "    \"#7f7f7f\",  # gray\n",
    "    \"#bcbd22\",  # olive\n",
    "    \"#17becf\",  # cyan\n",
    "    \"#aec7e8\",  # light blue\n",
    "    \"#ffbb78\"   # light orange\n",
    "]  #hexadecimal colour code\n",
    "\n",
    "for i in range(1, 13):\n",
    "    x = uber_2.loc[uber_2['Month'] == i, 'counter'].sum()\n",
    "    no_of_trips.append(x)\n",
    "\n",
    "# print(\"Average trips a Month: \")\n",
    "# print(month, no_of_trips)\n",
    "\n",
    "month_no_trip={}\n",
    "n_tmp=0\n",
    "for i in month:\n",
    "\n",
    "  for j in range(0,len(no_of_trips)):\n",
    "    month_no_trip.update({i:no_of_trips[n_tmp]})\n",
    "    n_tmp+=1\n",
    "    break\n",
    "print(month_no_trip)\n",
    "\n",
    "plt.title(\"Average Monthly Trips\")\n",
    "plt.xlabel(\"Months\")\n",
    "plt.ylabel(\"Number of Trips\")\n",
    "\n",
    "plt.bar(month, no_of_trips, color=colors)"
   ]
  },
  {
   "cell_type": "markdown",
   "metadata": {
    "id": "jwYsz2tdVHGR"
   },
   "source": [
    "### **Average Daily Trips**"
   ]
  },
  {
   "cell_type": "code",
   "execution_count": 38,
   "metadata": {
    "colab": {
     "base_uri": "https://localhost:8080/",
     "height": 507
    },
    "id": "-ps-tiluVJcu",
    "outputId": "a5b6c826-0b55-4f5f-d3a4-c005d0039b89"
   },
   "outputs": [
    {
     "name": "stdout",
     "output_type": "stream",
     "text": [
      "{'Mon': 20621, 'Tue': 22931, 'Wed': 23507, 'Thu': 24432, 'Fri': 25175, 'Sat': 25107, 'Sun': 22076}\n"
     ]
    },
    {
     "data": {
      "text/plain": [
       "<BarContainer object of 7 artists>"
      ]
     },
     "execution_count": 38,
     "metadata": {},
     "output_type": "execute_result"
    },
    {
     "data": {
      "image/png": "[encoded data removed]",
      "text/plain": [
       "<Figure size 640x480 with 1 Axes>"
      ]
     },
     "metadata": {},
     "output_type": "display_data"
    }
   ],
   "source": [
    "no_of_trips = []\n",
    "day = ['Mon', 'Tue', 'Wed', 'Thu', 'Fri', 'Sat', 'Sun']\n",
    "\n",
    "colors = ['#1f77b4', '#ff7f0e', '#2ca02c', '#d62728', '#9467bd',\n",
    "          '#8c564b', '#e377c2', '#7f7f7f', '#bcbd22', '#17becf']\n",
    "\n",
    "for i in range(0, 7):\n",
    "    x = uber_2.loc[uber_2['Day of Week_num'] == i, 'counter'].sum()\n",
    "    no_of_trips.append(x)\n",
    "\n",
    "# print(\"Average trips by Days: \")\n",
    "# print(day, no_of_trips)\n",
    "\n",
    "day_no_trip={}\n",
    "n_tmp=0\n",
    "for i in day:\n",
    "\n",
    "  for j in range(0,len(no_of_trips)):\n",
    "    day_no_trip.update({i:no_of_trips[n_tmp]})\n",
    "    n_tmp+=1\n",
    "    break\n",
    "print(day_no_trip)\n",
    "\n",
    "plt.title(\"Average Daily Trips\")\n",
    "plt.xlabel(\"Days\")\n",
    "plt.ylabel(\"Number of Trips\")\n",
    "\n",
    "plt.bar(day, no_of_trips, color=colors)"
   ]
  },
  {
   "cell_type": "markdown",
   "metadata": {
    "id": "lqJp_iUzYmWk"
   },
   "source": [
    "### **Rides vs Time**\n",
    "\n",
    "Relation between average number of rides over a period of time.\n"
   ]
  },
  {
   "cell_type": "code",
   "execution_count": 39,
   "metadata": {
    "id": "sCH8zTsLZjgI"
   },
   "outputs": [],
   "source": [
    "year_vs_trips = uber_2.groupby(['Year','Month']).agg(\n",
    "    no_of_trips = ('counter','count'),\n",
    "    Average_fair = ('fare_amount','mean'),\n",
    "    Total_fair = ('fare_amount','sum'),\n",
    "    Avg_distance = ( 'Distance', 'mean'))\n",
    "\n"
   ]
  },
  {
   "cell_type": "code",
   "execution_count": 40,
   "metadata": {
    "colab": {
     "base_uri": "https://localhost:8080/",
     "height": 238
    },
    "id": "YGYsxUSQavSh",
    "outputId": "13429061-f380-4337-d7ee-a420a813fe0e"
   },
   "outputs": [
    {
     "data": {
      "text/html": [
       "<div>\n",
       "<style scoped>\n",
       "    .dataframe tbody tr th:only-of-type {\n",
       "        vertical-align: middle;\n",
       "    }\n",
       "\n",
       "    .dataframe tbody tr th {\n",
       "        vertical-align: top;\n",
       "    }\n",
       "\n",
       "    .dataframe thead th {\n",
       "        text-align: right;\n",
       "    }\n",
       "</style>\n",
       "<table border=\"1\" class=\"dataframe\">\n",
       "  <thead>\n",
       "    <tr style=\"text-align: right;\">\n",
       "      <th></th>\n",
       "      <th></th>\n",
       "      <th>no_of_trips</th>\n",
       "      <th>Average_fair</th>\n",
       "      <th>Total_fair</th>\n",
       "      <th>Avg_distance</th>\n",
       "    </tr>\n",
       "    <tr>\n",
       "      <th>Year</th>\n",
       "      <th>Month</th>\n",
       "      <th></th>\n",
       "      <th></th>\n",
       "      <th></th>\n",
       "      <th></th>\n",
       "    </tr>\n",
       "  </thead>\n",
       "  <tbody>\n",
       "    <tr>\n",
       "      <th rowspan=\"5\" valign=\"top\">2009</th>\n",
       "      <th>1</th>\n",
       "      <td>2043</td>\n",
       "      <td>10.498116</td>\n",
       "      <td>21447.65</td>\n",
       "      <td>3.529094</td>\n",
       "    </tr>\n",
       "    <tr>\n",
       "      <th>2</th>\n",
       "      <td>1840</td>\n",
       "      <td>10.569266</td>\n",
       "      <td>19447.45</td>\n",
       "      <td>3.563364</td>\n",
       "    </tr>\n",
       "    <tr>\n",
       "      <th>3</th>\n",
       "      <td>2210</td>\n",
       "      <td>11.042059</td>\n",
       "      <td>24402.95</td>\n",
       "      <td>3.734729</td>\n",
       "    </tr>\n",
       "    <tr>\n",
       "      <th>4</th>\n",
       "      <td>2114</td>\n",
       "      <td>10.959342</td>\n",
       "      <td>23168.05</td>\n",
       "      <td>3.687200</td>\n",
       "    </tr>\n",
       "    <tr>\n",
       "      <th>5</th>\n",
       "      <td>2190</td>\n",
       "      <td>10.945137</td>\n",
       "      <td>23969.85</td>\n",
       "      <td>3.691128</td>\n",
       "    </tr>\n",
       "  </tbody>\n",
       "</table>\n",
       "</div>"
      ],
      "text/plain": [
       "            no_of_trips  Average_fair  Total_fair  Avg_distance\n",
       "Year Month                                                     \n",
       "2009 1             2043     10.498116    21447.65      3.529094\n",
       "     2             1840     10.569266    19447.45      3.563364\n",
       "     3             2210     11.042059    24402.95      3.734729\n",
       "     4             2114     10.959342    23168.05      3.687200\n",
       "     5             2190     10.945137    23969.85      3.691128"
      ]
     },
     "execution_count": 40,
     "metadata": {},
     "output_type": "execute_result"
    }
   ],
   "source": [
    "year_vs_trips.head()"
   ]
  },
  {
   "cell_type": "code",
   "execution_count": 41,
   "metadata": {
    "colab": {
     "base_uri": "https://localhost:8080/",
     "height": 206
    },
    "id": "cloDsLzlax4S",
    "outputId": "a7161f8c-23bd-4aa1-8db2-e10062edfd13"
   },
   "outputs": [
    {
     "data": {
      "text/html": [
       "<div>\n",
       "<style scoped>\n",
       "    .dataframe tbody tr th:only-of-type {\n",
       "        vertical-align: middle;\n",
       "    }\n",
       "\n",
       "    .dataframe tbody tr th {\n",
       "        vertical-align: top;\n",
       "    }\n",
       "\n",
       "    .dataframe thead th {\n",
       "        text-align: right;\n",
       "    }\n",
       "</style>\n",
       "<table border=\"1\" class=\"dataframe\">\n",
       "  <thead>\n",
       "    <tr style=\"text-align: right;\">\n",
       "      <th></th>\n",
       "      <th>Year</th>\n",
       "      <th>Month</th>\n",
       "      <th>no_of_trips</th>\n",
       "      <th>Average_fair</th>\n",
       "      <th>Total_fair</th>\n",
       "      <th>Avg_distance</th>\n",
       "    </tr>\n",
       "  </thead>\n",
       "  <tbody>\n",
       "    <tr>\n",
       "      <th>0</th>\n",
       "      <td>2009</td>\n",
       "      <td>1</td>\n",
       "      <td>2043</td>\n",
       "      <td>10.498116</td>\n",
       "      <td>21447.65</td>\n",
       "      <td>3.529094</td>\n",
       "    </tr>\n",
       "    <tr>\n",
       "      <th>1</th>\n",
       "      <td>2009</td>\n",
       "      <td>2</td>\n",
       "      <td>1840</td>\n",
       "      <td>10.569266</td>\n",
       "      <td>19447.45</td>\n",
       "      <td>3.563364</td>\n",
       "    </tr>\n",
       "    <tr>\n",
       "      <th>2</th>\n",
       "      <td>2009</td>\n",
       "      <td>3</td>\n",
       "      <td>2210</td>\n",
       "      <td>11.042059</td>\n",
       "      <td>24402.95</td>\n",
       "      <td>3.734729</td>\n",
       "    </tr>\n",
       "    <tr>\n",
       "      <th>3</th>\n",
       "      <td>2009</td>\n",
       "      <td>4</td>\n",
       "      <td>2114</td>\n",
       "      <td>10.959342</td>\n",
       "      <td>23168.05</td>\n",
       "      <td>3.687200</td>\n",
       "    </tr>\n",
       "    <tr>\n",
       "      <th>4</th>\n",
       "      <td>2009</td>\n",
       "      <td>5</td>\n",
       "      <td>2190</td>\n",
       "      <td>10.945137</td>\n",
       "      <td>23969.85</td>\n",
       "      <td>3.691128</td>\n",
       "    </tr>\n",
       "  </tbody>\n",
       "</table>\n",
       "</div>"
      ],
      "text/plain": [
       "   Year  Month  no_of_trips  Average_fair  Total_fair  Avg_distance\n",
       "0  2009      1         2043     10.498116    21447.65      3.529094\n",
       "1  2009      2         1840     10.569266    19447.45      3.563364\n",
       "2  2009      3         2210     11.042059    24402.95      3.734729\n",
       "3  2009      4         2114     10.959342    23168.05      3.687200\n",
       "4  2009      5         2190     10.945137    23969.85      3.691128"
      ]
     },
     "execution_count": 41,
     "metadata": {},
     "output_type": "execute_result"
    }
   ],
   "source": [
    "year_vs_trips = uber_2.groupby(['Year','Month']).agg(\n",
    "    no_of_trips = ('counter','count'),\n",
    "    Average_fair = ('fare_amount','mean'),\n",
    "    Total_fair = ('fare_amount','sum'),\n",
    "    Avg_distance = ( 'Distance', 'mean')).reset_index()\n",
    "\n",
    "year_vs_trips.head()"
   ]
  },
  {
   "cell_type": "code",
   "execution_count": 42,
   "metadata": {
    "colab": {
     "base_uri": "https://localhost:8080/",
     "height": 206
    },
    "id": "JYgWKq0kcNoN",
    "outputId": "213a8395-af55-4e35-aca8-a90e20f37b13"
   },
   "outputs": [
    {
     "data": {
      "text/html": [
       "<div>\n",
       "<style scoped>\n",
       "    .dataframe tbody tr th:only-of-type {\n",
       "        vertical-align: middle;\n",
       "    }\n",
       "\n",
       "    .dataframe tbody tr th {\n",
       "        vertical-align: top;\n",
       "    }\n",
       "\n",
       "    .dataframe thead th {\n",
       "        text-align: right;\n",
       "    }\n",
       "</style>\n",
       "<table border=\"1\" class=\"dataframe\">\n",
       "  <thead>\n",
       "    <tr style=\"text-align: right;\">\n",
       "      <th></th>\n",
       "      <th>Year</th>\n",
       "      <th>Month</th>\n",
       "      <th>no_of_trips</th>\n",
       "      <th>Average_fair</th>\n",
       "      <th>Total_fair</th>\n",
       "      <th>Avg_distance</th>\n",
       "      <th>avg_no_of_trips</th>\n",
       "      <th>month_year</th>\n",
       "    </tr>\n",
       "  </thead>\n",
       "  <tbody>\n",
       "    <tr>\n",
       "      <th>0</th>\n",
       "      <td>2009</td>\n",
       "      <td>1</td>\n",
       "      <td>2043</td>\n",
       "      <td>10.498116</td>\n",
       "      <td>21447.65</td>\n",
       "      <td>3.529094</td>\n",
       "      <td>68.100</td>\n",
       "      <td>1,2009</td>\n",
       "    </tr>\n",
       "    <tr>\n",
       "      <th>1</th>\n",
       "      <td>2009</td>\n",
       "      <td>2</td>\n",
       "      <td>1840</td>\n",
       "      <td>10.569266</td>\n",
       "      <td>19447.45</td>\n",
       "      <td>3.563364</td>\n",
       "      <td>61.333</td>\n",
       "      <td>2,2009</td>\n",
       "    </tr>\n",
       "    <tr>\n",
       "      <th>2</th>\n",
       "      <td>2009</td>\n",
       "      <td>3</td>\n",
       "      <td>2210</td>\n",
       "      <td>11.042059</td>\n",
       "      <td>24402.95</td>\n",
       "      <td>3.734729</td>\n",
       "      <td>73.667</td>\n",
       "      <td>3,2009</td>\n",
       "    </tr>\n",
       "    <tr>\n",
       "      <th>3</th>\n",
       "      <td>2009</td>\n",
       "      <td>4</td>\n",
       "      <td>2114</td>\n",
       "      <td>10.959342</td>\n",
       "      <td>23168.05</td>\n",
       "      <td>3.687200</td>\n",
       "      <td>70.467</td>\n",
       "      <td>4,2009</td>\n",
       "    </tr>\n",
       "    <tr>\n",
       "      <th>4</th>\n",
       "      <td>2009</td>\n",
       "      <td>5</td>\n",
       "      <td>2190</td>\n",
       "      <td>10.945137</td>\n",
       "      <td>23969.85</td>\n",
       "      <td>3.691128</td>\n",
       "      <td>73.000</td>\n",
       "      <td>5,2009</td>\n",
       "    </tr>\n",
       "  </tbody>\n",
       "</table>\n",
       "</div>"
      ],
      "text/plain": [
       "   Year  Month  no_of_trips  Average_fair  Total_fair  Avg_distance  \\\n",
       "0  2009      1         2043     10.498116    21447.65      3.529094   \n",
       "1  2009      2         1840     10.569266    19447.45      3.563364   \n",
       "2  2009      3         2210     11.042059    24402.95      3.734729   \n",
       "3  2009      4         2114     10.959342    23168.05      3.687200   \n",
       "4  2009      5         2190     10.945137    23969.85      3.691128   \n",
       "\n",
       "   avg_no_of_trips month_year  \n",
       "0           68.100     1,2009  \n",
       "1           61.333     2,2009  \n",
       "2           73.667     3,2009  \n",
       "3           70.467     4,2009  \n",
       "4           73.000     5,2009  "
      ]
     },
     "execution_count": 42,
     "metadata": {},
     "output_type": "execute_result"
    }
   ],
   "source": [
    "year_vs_trips['avg_no_of_trips'] = (year_vs_trips['no_of_trips']/30).round(3)\n",
    "year_vs_trips['month_year'] = \" \"+year_vs_trips['Month'].astype(str) +\",\"+ year_vs_trips['Year'].astype(str)\n",
    "year_vs_trips.head()\n"
   ]
  },
  {
   "cell_type": "code",
   "execution_count": 43,
   "metadata": {
    "colab": {
     "base_uri": "https://localhost:8080/",
     "height": 489
    },
    "id": "YBGuT8ukcPDw",
    "outputId": "f3e8a7db-4620-4962-9d87-e64a5b0000c5"
   },
   "outputs": [
    {
     "data": {
      "text/plain": [
       "<Axes: title={'center': 'No of trips vs Months'}, xlabel='January, 2009 - June, 2015', ylabel='No of Trips'>"
      ]
     },
     "execution_count": 43,
     "metadata": {},
     "output_type": "execute_result"
    },
    {
     "data": {
      "image/png": "[encoded data removed]",
      "text/plain": [
       "<Figure size 640x480 with 1 Axes>"
      ]
     },
     "metadata": {},
     "output_type": "display_data"
    }
   ],
   "source": [
    "year_vs_trips.plot(kind='line',x='month_year',y='no_of_trips', xlabel='January, 2009 - June, 2015',\n",
    "    ylabel='No of Trips', title='No of trips vs Months')"
   ]
  },
  {
   "cell_type": "markdown",
   "metadata": {
    "id": "Fsbq9tVQFxpV"
   },
   "source": [
    "### **Heat-Map**\n",
    "\n",
    "A heat map is a visual tool that uses color to represent the magnitude of data values. It's often used to show patterns or relationships between different variables.\n",
    "A heat map to illustrate at what time of day and week, people are using Uber the most."
   ]
  },
  {
   "cell_type": "markdown",
   "metadata": {
    "id": "Glk13uPVF09W"
   },
   "source": [
    "A heat map to illustrate at what time of day and week, people are using Uber the most."
   ]
  },
  {
   "cell_type": "code",
   "execution_count": 44,
   "metadata": {
    "colab": {
     "base_uri": "https://localhost:8080/",
     "height": 424
    },
    "id": "6lApyRZSF8bR",
    "outputId": "a5980f41-f020-4fa8-ef02-1a2c1f48be6e"
   },
   "outputs": [
    {
     "data": {
      "text/html": [
       "<div>\n",
       "<style scoped>\n",
       "    .dataframe tbody tr th:only-of-type {\n",
       "        vertical-align: middle;\n",
       "    }\n",
       "\n",
       "    .dataframe tbody tr th {\n",
       "        vertical-align: top;\n",
       "    }\n",
       "\n",
       "    .dataframe thead th {\n",
       "        text-align: right;\n",
       "    }\n",
       "</style>\n",
       "<table border=\"1\" class=\"dataframe\">\n",
       "  <thead>\n",
       "    <tr style=\"text-align: right;\">\n",
       "      <th></th>\n",
       "      <th>Distance</th>\n",
       "      <th>Day of Week_num</th>\n",
       "      <th>Hour</th>\n",
       "    </tr>\n",
       "  </thead>\n",
       "  <tbody>\n",
       "    <tr>\n",
       "      <th>0</th>\n",
       "      <td>1.68</td>\n",
       "      <td>3</td>\n",
       "      <td>19</td>\n",
       "    </tr>\n",
       "    <tr>\n",
       "      <th>1</th>\n",
       "      <td>2.46</td>\n",
       "      <td>4</td>\n",
       "      <td>20</td>\n",
       "    </tr>\n",
       "    <tr>\n",
       "      <th>2</th>\n",
       "      <td>5.04</td>\n",
       "      <td>0</td>\n",
       "      <td>21</td>\n",
       "    </tr>\n",
       "    <tr>\n",
       "      <th>3</th>\n",
       "      <td>1.66</td>\n",
       "      <td>4</td>\n",
       "      <td>8</td>\n",
       "    </tr>\n",
       "    <tr>\n",
       "      <th>4</th>\n",
       "      <td>4.48</td>\n",
       "      <td>3</td>\n",
       "      <td>17</td>\n",
       "    </tr>\n",
       "    <tr>\n",
       "      <th>...</th>\n",
       "      <td>...</td>\n",
       "      <td>...</td>\n",
       "      <td>...</td>\n",
       "    </tr>\n",
       "    <tr>\n",
       "      <th>123</th>\n",
       "      <td>1.97</td>\n",
       "      <td>0</td>\n",
       "      <td>9</td>\n",
       "    </tr>\n",
       "    <tr>\n",
       "      <th>124</th>\n",
       "      <td>3.74</td>\n",
       "      <td>5</td>\n",
       "      <td>1</td>\n",
       "    </tr>\n",
       "    <tr>\n",
       "      <th>125</th>\n",
       "      <td>2.18</td>\n",
       "      <td>2</td>\n",
       "      <td>17</td>\n",
       "    </tr>\n",
       "    <tr>\n",
       "      <th>126</th>\n",
       "      <td>1.22</td>\n",
       "      <td>1</td>\n",
       "      <td>12</td>\n",
       "    </tr>\n",
       "    <tr>\n",
       "      <th>127</th>\n",
       "      <td>1.15</td>\n",
       "      <td>3</td>\n",
       "      <td>6</td>\n",
       "    </tr>\n",
       "  </tbody>\n",
       "</table>\n",
       "<p>100 rows × 3 columns</p>\n",
       "</div>"
      ],
      "text/plain": [
       "     Distance  Day of Week_num  Hour\n",
       "0        1.68                3    19\n",
       "1        2.46                4    20\n",
       "2        5.04                0    21\n",
       "3        1.66                4     8\n",
       "4        4.48                3    17\n",
       "..        ...              ...   ...\n",
       "123      1.97                0     9\n",
       "124      3.74                5     1\n",
       "125      2.18                2    17\n",
       "126      1.22                1    12\n",
       "127      1.15                3     6\n",
       "\n",
       "[100 rows x 3 columns]"
      ]
     },
     "execution_count": 44,
     "metadata": {},
     "output_type": "execute_result"
    }
   ],
   "source": [
    "import seaborn as sns\n",
    "\n",
    "df_1 = uber_2[['Distance', 'Day of Week_num', 'Hour']].copy()\n",
    "\n",
    "df_1.head(100)"
   ]
  },
  {
   "cell_type": "code",
   "execution_count": 45,
   "metadata": {
    "id": "z3x6BZLxGCTt"
   },
   "outputs": [],
   "source": [
    "df_h = df_1.copy()\n",
    "\n",
    "df_h = df_h.groupby(['Hour', 'Day of Week_num']).mean()\n",
    "df_h = df_h.unstack(level=0)"
   ]
  },
  {
   "cell_type": "code",
   "execution_count": 46,
   "metadata": {
    "colab": {
     "base_uri": "https://localhost:8080/",
     "height": 398
    },
    "id": "SnF084OIHSWz",
    "outputId": "c9cf3ca3-1df8-4a77-e3e4-e18b38f5a6f9"
   },
   "outputs": [
    {
     "data": {
      "text/html": [
       "<div>\n",
       "<style scoped>\n",
       "    .dataframe tbody tr th:only-of-type {\n",
       "        vertical-align: middle;\n",
       "    }\n",
       "\n",
       "    .dataframe tbody tr th {\n",
       "        vertical-align: top;\n",
       "    }\n",
       "\n",
       "    .dataframe thead tr th {\n",
       "        text-align: left;\n",
       "    }\n",
       "\n",
       "    .dataframe thead tr:last-of-type th {\n",
       "        text-align: right;\n",
       "    }\n",
       "</style>\n",
       "<table border=\"1\" class=\"dataframe\">\n",
       "  <thead>\n",
       "    <tr>\n",
       "      <th></th>\n",
       "      <th colspan=\"21\" halign=\"left\">Distance</th>\n",
       "    </tr>\n",
       "    <tr>\n",
       "      <th>Hour</th>\n",
       "      <th>0</th>\n",
       "      <th>1</th>\n",
       "      <th>2</th>\n",
       "      <th>3</th>\n",
       "      <th>4</th>\n",
       "      <th>5</th>\n",
       "      <th>6</th>\n",
       "      <th>7</th>\n",
       "      <th>8</th>\n",
       "      <th>9</th>\n",
       "      <th>...</th>\n",
       "      <th>14</th>\n",
       "      <th>15</th>\n",
       "      <th>16</th>\n",
       "      <th>17</th>\n",
       "      <th>18</th>\n",
       "      <th>19</th>\n",
       "      <th>20</th>\n",
       "      <th>21</th>\n",
       "      <th>22</th>\n",
       "      <th>23</th>\n",
       "    </tr>\n",
       "    <tr>\n",
       "      <th>Day of Week_num</th>\n",
       "      <th></th>\n",
       "      <th></th>\n",
       "      <th></th>\n",
       "      <th></th>\n",
       "      <th></th>\n",
       "      <th></th>\n",
       "      <th></th>\n",
       "      <th></th>\n",
       "      <th></th>\n",
       "      <th></th>\n",
       "      <th></th>\n",
       "      <th></th>\n",
       "      <th></th>\n",
       "      <th></th>\n",
       "      <th></th>\n",
       "      <th></th>\n",
       "      <th></th>\n",
       "      <th></th>\n",
       "      <th></th>\n",
       "      <th></th>\n",
       "      <th></th>\n",
       "    </tr>\n",
       "  </thead>\n",
       "  <tbody>\n",
       "    <tr>\n",
       "      <th>0</th>\n",
       "      <td>4.910657</td>\n",
       "      <td>4.944848</td>\n",
       "      <td>4.769196</td>\n",
       "      <td>4.921523</td>\n",
       "      <td>6.864895</td>\n",
       "      <td>6.364067</td>\n",
       "      <td>4.477316</td>\n",
       "      <td>3.854439</td>\n",
       "      <td>3.559487</td>\n",
       "      <td>3.574406</td>\n",
       "      <td>...</td>\n",
       "      <td>4.021124</td>\n",
       "      <td>3.886144</td>\n",
       "      <td>3.927989</td>\n",
       "      <td>3.679129</td>\n",
       "      <td>3.581681</td>\n",
       "      <td>3.603402</td>\n",
       "      <td>3.780277</td>\n",
       "      <td>3.946575</td>\n",
       "      <td>4.195622</td>\n",
       "      <td>4.424105</td>\n",
       "    </tr>\n",
       "    <tr>\n",
       "      <th>1</th>\n",
       "      <td>4.444028</td>\n",
       "      <td>4.728453</td>\n",
       "      <td>4.462579</td>\n",
       "      <td>4.696835</td>\n",
       "      <td>5.434264</td>\n",
       "      <td>5.901314</td>\n",
       "      <td>4.184078</td>\n",
       "      <td>3.697743</td>\n",
       "      <td>3.321974</td>\n",
       "      <td>3.120186</td>\n",
       "      <td>...</td>\n",
       "      <td>3.672665</td>\n",
       "      <td>3.792746</td>\n",
       "      <td>3.871972</td>\n",
       "      <td>3.390376</td>\n",
       "      <td>3.280684</td>\n",
       "      <td>3.446761</td>\n",
       "      <td>3.744662</td>\n",
       "      <td>3.907938</td>\n",
       "      <td>4.045061</td>\n",
       "      <td>4.345384</td>\n",
       "    </tr>\n",
       "    <tr>\n",
       "      <th>2</th>\n",
       "      <td>4.385075</td>\n",
       "      <td>4.375516</td>\n",
       "      <td>4.264983</td>\n",
       "      <td>4.962690</td>\n",
       "      <td>6.149471</td>\n",
       "      <td>5.949466</td>\n",
       "      <td>4.367555</td>\n",
       "      <td>3.663936</td>\n",
       "      <td>3.286607</td>\n",
       "      <td>3.286568</td>\n",
       "      <td>...</td>\n",
       "      <td>3.637786</td>\n",
       "      <td>3.714054</td>\n",
       "      <td>3.921214</td>\n",
       "      <td>3.578773</td>\n",
       "      <td>3.494822</td>\n",
       "      <td>3.380879</td>\n",
       "      <td>3.784976</td>\n",
       "      <td>3.966142</td>\n",
       "      <td>3.969859</td>\n",
       "      <td>4.076734</td>\n",
       "    </tr>\n",
       "    <tr>\n",
       "      <th>3</th>\n",
       "      <td>4.439409</td>\n",
       "      <td>4.653106</td>\n",
       "      <td>4.166937</td>\n",
       "      <td>4.392217</td>\n",
       "      <td>5.573722</td>\n",
       "      <td>6.101569</td>\n",
       "      <td>4.375315</td>\n",
       "      <td>3.778832</td>\n",
       "      <td>3.476764</td>\n",
       "      <td>3.414932</td>\n",
       "      <td>...</td>\n",
       "      <td>3.780586</td>\n",
       "      <td>3.895424</td>\n",
       "      <td>3.939875</td>\n",
       "      <td>3.898671</td>\n",
       "      <td>3.519179</td>\n",
       "      <td>3.475507</td>\n",
       "      <td>3.613088</td>\n",
       "      <td>3.891366</td>\n",
       "      <td>3.863578</td>\n",
       "      <td>4.104143</td>\n",
       "    </tr>\n",
       "    <tr>\n",
       "      <th>4</th>\n",
       "      <td>4.226731</td>\n",
       "      <td>4.402861</td>\n",
       "      <td>4.415052</td>\n",
       "      <td>4.742882</td>\n",
       "      <td>5.245688</td>\n",
       "      <td>6.876214</td>\n",
       "      <td>4.613526</td>\n",
       "      <td>3.796774</td>\n",
       "      <td>3.372014</td>\n",
       "      <td>3.405077</td>\n",
       "      <td>...</td>\n",
       "      <td>3.894970</td>\n",
       "      <td>3.677929</td>\n",
       "      <td>3.827275</td>\n",
       "      <td>3.640761</td>\n",
       "      <td>3.350514</td>\n",
       "      <td>3.402692</td>\n",
       "      <td>3.619436</td>\n",
       "      <td>3.796590</td>\n",
       "      <td>3.981716</td>\n",
       "      <td>3.810791</td>\n",
       "    </tr>\n",
       "    <tr>\n",
       "      <th>5</th>\n",
       "      <td>3.953557</td>\n",
       "      <td>4.148911</td>\n",
       "      <td>4.326300</td>\n",
       "      <td>4.210445</td>\n",
       "      <td>5.161018</td>\n",
       "      <td>5.926571</td>\n",
       "      <td>6.018357</td>\n",
       "      <td>4.851692</td>\n",
       "      <td>3.882917</td>\n",
       "      <td>3.687666</td>\n",
       "      <td>...</td>\n",
       "      <td>3.677661</td>\n",
       "      <td>3.559286</td>\n",
       "      <td>3.706266</td>\n",
       "      <td>3.606887</td>\n",
       "      <td>3.517129</td>\n",
       "      <td>3.208952</td>\n",
       "      <td>3.492795</td>\n",
       "      <td>3.406340</td>\n",
       "      <td>3.557335</td>\n",
       "      <td>3.757692</td>\n",
       "    </tr>\n",
       "    <tr>\n",
       "      <th>6</th>\n",
       "      <td>3.748147</td>\n",
       "      <td>4.055203</td>\n",
       "      <td>4.135035</td>\n",
       "      <td>4.349063</td>\n",
       "      <td>5.009232</td>\n",
       "      <td>6.124387</td>\n",
       "      <td>5.423881</td>\n",
       "      <td>5.135310</td>\n",
       "      <td>4.441790</td>\n",
       "      <td>4.024513</td>\n",
       "      <td>...</td>\n",
       "      <td>4.196869</td>\n",
       "      <td>4.301618</td>\n",
       "      <td>4.062912</td>\n",
       "      <td>4.184779</td>\n",
       "      <td>3.925766</td>\n",
       "      <td>3.847979</td>\n",
       "      <td>4.197430</td>\n",
       "      <td>3.951123</td>\n",
       "      <td>4.318326</td>\n",
       "      <td>4.605128</td>\n",
       "    </tr>\n",
       "  </tbody>\n",
       "</table>\n",
       "<p>7 rows × 24 columns</p>\n",
       "</div>"
      ],
      "text/plain": [
       "                 Distance                                                    \\\n",
       "Hour                   0         1         2         3         4         5    \n",
       "Day of Week_num                                                               \n",
       "0                4.910657  4.944848  4.769196  4.921523  6.864895  6.364067   \n",
       "1                4.444028  4.728453  4.462579  4.696835  5.434264  5.901314   \n",
       "2                4.385075  4.375516  4.264983  4.962690  6.149471  5.949466   \n",
       "3                4.439409  4.653106  4.166937  4.392217  5.573722  6.101569   \n",
       "4                4.226731  4.402861  4.415052  4.742882  5.245688  6.876214   \n",
       "5                3.953557  4.148911  4.326300  4.210445  5.161018  5.926571   \n",
       "6                3.748147  4.055203  4.135035  4.349063  5.009232  6.124387   \n",
       "\n",
       "                                                         ...            \\\n",
       "Hour                   6         7         8         9   ...        14   \n",
       "Day of Week_num                                          ...             \n",
       "0                4.477316  3.854439  3.559487  3.574406  ...  4.021124   \n",
       "1                4.184078  3.697743  3.321974  3.120186  ...  3.672665   \n",
       "2                4.367555  3.663936  3.286607  3.286568  ...  3.637786   \n",
       "3                4.375315  3.778832  3.476764  3.414932  ...  3.780586   \n",
       "4                4.613526  3.796774  3.372014  3.405077  ...  3.894970   \n",
       "5                6.018357  4.851692  3.882917  3.687666  ...  3.677661   \n",
       "6                5.423881  5.135310  4.441790  4.024513  ...  4.196869   \n",
       "\n",
       "                                                                             \\\n",
       "Hour                   15        16        17        18        19        20   \n",
       "Day of Week_num                                                               \n",
       "0                3.886144  3.927989  3.679129  3.581681  3.603402  3.780277   \n",
       "1                3.792746  3.871972  3.390376  3.280684  3.446761  3.744662   \n",
       "2                3.714054  3.921214  3.578773  3.494822  3.380879  3.784976   \n",
       "3                3.895424  3.939875  3.898671  3.519179  3.475507  3.613088   \n",
       "4                3.677929  3.827275  3.640761  3.350514  3.402692  3.619436   \n",
       "5                3.559286  3.706266  3.606887  3.517129  3.208952  3.492795   \n",
       "6                4.301618  4.062912  4.184779  3.925766  3.847979  4.197430   \n",
       "\n",
       "                                               \n",
       "Hour                   21        22        23  \n",
       "Day of Week_num                                \n",
       "0                3.946575  4.195622  4.424105  \n",
       "1                3.907938  4.045061  4.345384  \n",
       "2                3.966142  3.969859  4.076734  \n",
       "3                3.891366  3.863578  4.104143  \n",
       "4                3.796590  3.981716  3.810791  \n",
       "5                3.406340  3.557335  3.757692  \n",
       "6                3.951123  4.318326  4.605128  \n",
       "\n",
       "[7 rows x 24 columns]"
      ]
     },
     "execution_count": 46,
     "metadata": {},
     "output_type": "execute_result"
    }
   ],
   "source": [
    "df_h"
   ]
  },
  {
   "cell_type": "code",
   "execution_count": 47,
   "metadata": {
    "colab": {
     "base_uri": "https://localhost:8080/",
     "height": 584
    },
    "id": "uLpmBFq3Hql4",
    "outputId": "859bd42d-0266-4f8a-e1cc-0e4118480b3b"
   },
   "outputs": [
    {
     "data": {
      "image/png": "[encoded data removed]",
      "text/plain": [
       "<Figure size 2400x700 with 2 Axes>"
      ]
     },
     "metadata": {},
     "output_type": "display_data"
    }
   ],
   "source": [
    "fig, ax = plt.subplots(figsize=(24, 7))\n",
    "sns.heatmap(df_h, cmap=\"Reds\",\n",
    "           linewidth=.3, cbar_kws={\"shrink\": .8})\n",
    "\n",
    "xticks_labels = ['12 AM', '01 AM', '02 AM ', '03 AM ', '04 AM ', '05 AM ', '06 AM ', '07 AM ',\n",
    "                 '08 AM ', '09 AM ', '10 AM ', '11 AM ', '12 PM ', '01 PM ', '02 PM ', '03 PM ',\n",
    "                 '04 PM ', '05 PM ', '06 PM ', '07 PM ', '08 PM ', '09 PM ', '10 PM ', '11 PM ']\n",
    "\n",
    "yticks_labels = ['Mon','Tue','Wed','Thu','Fri','Sat','Sun']\n",
    "\n",
    "plt.xticks(np.arange(24) +.5 , labels=xticks_labels)\n",
    "plt.yticks(np.arange(7) +.5 , labels=yticks_labels)\n",
    "\n",
    "ax.xaxis.tick_top()\n",
    "\n",
    "title = 'Weekly Uber Rides'.upper()\n",
    "plt.title(title, fontdict={'fontsize': 30})\n",
    "\n",
    "plt.show()"
   ]
  },
  {
   "cell_type": "markdown",
   "metadata": {
    "id": "RpWxVbMYO7DP"
   },
   "source": [
    "### **Statistics**"
   ]
  },
  {
   "cell_type": "markdown",
   "metadata": {
    "id": "HQK7ZINIPBcp"
   },
   "source": [
    "Some general statistical information about the data"
   ]
  },
  {
   "cell_type": "code",
   "execution_count": 48,
   "metadata": {
    "colab": {
     "base_uri": "https://localhost:8080/"
    },
    "id": "kiMWv8iePCwi",
    "outputId": "ed556307-c151-499a-b37f-b34bb9e57ac2"
   },
   "outputs": [
    {
     "name": "stdout",
     "output_type": "stream",
     "text": [
      "Mean of fare prices is 12.347895379282145 \n",
      "Median of fare prices is 9.3 \n",
      "Standard Deviation of Fare Prices is 9.580236347067169 \n"
     ]
    }
   ],
   "source": [
    "import statistics as st\n",
    "\n",
    "print(\"Mean of fare prices is % s \"\n",
    "         % (st.mean(uber_2['fare_amount'])))\n",
    "\n",
    "print(\"Median of fare prices is % s \"\n",
    "         % (st.median(uber_2['fare_amount'])))\n",
    "\n",
    "print(\"Standard Deviation of Fare Prices is % s \"\n",
    "                % (st.stdev(uber_2['fare_amount'])))"
   ]
  },
  {
   "cell_type": "markdown",
   "metadata": {
    "id": "zjG3JI1JQm5r"
   },
   "source": [
    "### **Distance**"
   ]
  },
  {
   "cell_type": "code",
   "execution_count": 49,
   "metadata": {
    "colab": {
     "base_uri": "https://localhost:8080/"
    },
    "id": "2pAQ4vzZQroe",
    "outputId": "8432c3df-55b8-42ae-a783-1d60562373c2"
   },
   "outputs": [
    {
     "name": "stdout",
     "output_type": "stream",
     "text": [
      "Mean of Distance is 3.8318230199757095 \n",
      "Median of Distance is 2.56 \n",
      "Standard Deviation of Distance is 3.6820303138310373 \n"
     ]
    }
   ],
   "source": [
    "import statistics as st\n",
    "\n",
    "print(\"Mean of Distance is % s \"\n",
    "         % (st.mean(uber_2['Distance'])))\n",
    "\n",
    "print(\"Median of Distance is % s \"\n",
    "         % (st.median(uber_2['Distance'])))\n",
    "\n",
    "print(\"Standard Deviation of Distance is % s \"\n",
    "                % (st.stdev(uber_2['Distance'])))"
   ]
  },
  {
   "cell_type": "markdown",
   "metadata": {
    "id": "cSHsoh6LRxSH"
   },
   "source": [
    "# **Coorelation Matrix**\n",
    "\n",
    "A correlation matrix is a tool used to analyze the relationships between variables in a dataset.\n",
    "\n",
    "To find the two variables that have the most inter-dependence"
   ]
  },
  {
   "cell_type": "code",
   "execution_count": 51,
   "metadata": {},
   "outputs": [
    {
     "name": "stderr",
     "output_type": "stream",
     "text": [
      "C:\\Users\\ADMIN\\Anacondaaa\\Lib\\site-packages\\pandas\\io\\formats\\style.py:3618: RuntimeWarning: All-NaN slice encountered\n",
      "  smin = np.nanmin(gmap) if vmin is None else vmin\n",
      "C:\\Users\\ADMIN\\Anacondaaa\\Lib\\site-packages\\pandas\\io\\formats\\style.py:3619: RuntimeWarning: All-NaN slice encountered\n",
      "  smax = np.nanmax(gmap) if vmax is None else vmax\n"
     ]
    },
    {
     "data": {
      "text/html": [
       "<style type=\"text/css\">\n",
       "#T_2b085_row0_col0, #T_2b085_row1_col1, #T_2b085_row2_col2, #T_2b085_row3_col3, #T_2b085_row4_col4, #T_2b085_row5_col5, #T_2b085_row7_col7, #T_2b085_row8_col8, #T_2b085_row8_col12, #T_2b085_row9_col9, #T_2b085_row10_col10, #T_2b085_row11_col11, #T_2b085_row12_col8, #T_2b085_row12_col12 {\n",
       "  background-color: #00441b;\n",
       "  color: #f1f1f1;\n",
       "}\n",
       "#T_2b085_row0_col1, #T_2b085_row0_col3, #T_2b085_row0_col4, #T_2b085_row5_col1, #T_2b085_row5_col3, #T_2b085_row7_col3, #T_2b085_row7_col5, #T_2b085_row8_col3, #T_2b085_row9_col1, #T_2b085_row11_col3, #T_2b085_row12_col3 {\n",
       "  background-color: #ebf7fa;\n",
       "  color: #000000;\n",
       "}\n",
       "#T_2b085_row0_col2, #T_2b085_row8_col0, #T_2b085_row8_col9, #T_2b085_row10_col9, #T_2b085_row11_col2, #T_2b085_row12_col0 {\n",
       "  background-color: #f2fafc;\n",
       "  color: #000000;\n",
       "}\n",
       "#T_2b085_row0_col5, #T_2b085_row1_col4, #T_2b085_row8_col1, #T_2b085_row11_col5, #T_2b085_row12_col1 {\n",
       "  background-color: #eaf7fa;\n",
       "  color: #000000;\n",
       "}\n",
       "#T_2b085_row0_col6, #T_2b085_row1_col6, #T_2b085_row2_col6, #T_2b085_row3_col6, #T_2b085_row4_col6, #T_2b085_row5_col6, #T_2b085_row6_col0, #T_2b085_row6_col1, #T_2b085_row6_col2, #T_2b085_row6_col3, #T_2b085_row6_col4, #T_2b085_row6_col5, #T_2b085_row6_col6, #T_2b085_row6_col7, #T_2b085_row6_col8, #T_2b085_row6_col9, #T_2b085_row6_col10, #T_2b085_row6_col11, #T_2b085_row6_col12, #T_2b085_row7_col6, #T_2b085_row8_col6, #T_2b085_row9_col6, #T_2b085_row10_col6, #T_2b085_row11_col6, #T_2b085_row12_col6 {\n",
       "  background-color: #000000;\n",
       "  color: #f1f1f1;\n",
       "}\n",
       "#T_2b085_row0_col7 {\n",
       "  background-color: #6ac4a7;\n",
       "  color: #000000;\n",
       "}\n",
       "#T_2b085_row0_col8, #T_2b085_row0_col12, #T_2b085_row9_col12 {\n",
       "  background-color: #63c0a0;\n",
       "  color: #000000;\n",
       "}\n",
       "#T_2b085_row0_col9, #T_2b085_row1_col0, #T_2b085_row1_col9, #T_2b085_row3_col0, #T_2b085_row3_col10, #T_2b085_row8_col10, #T_2b085_row9_col10, #T_2b085_row10_col0, #T_2b085_row12_col10 {\n",
       "  background-color: #f4fbfc;\n",
       "  color: #000000;\n",
       "}\n",
       "#T_2b085_row0_col10 {\n",
       "  background-color: #f5fbfd;\n",
       "  color: #000000;\n",
       "}\n",
       "#T_2b085_row0_col11, #T_2b085_row5_col11, #T_2b085_row9_col11 {\n",
       "  background-color: #70c6ac;\n",
       "  color: #000000;\n",
       "}\n",
       "#T_2b085_row1_col2, #T_2b085_row2_col3, #T_2b085_row4_col2, #T_2b085_row8_col2, #T_2b085_row12_col2 {\n",
       "  background-color: #f0f9fb;\n",
       "  color: #000000;\n",
       "}\n",
       "#T_2b085_row1_col3, #T_2b085_row3_col1, #T_2b085_row3_col2, #T_2b085_row3_col9, #T_2b085_row4_col0, #T_2b085_row4_col5, #T_2b085_row5_col4, #T_2b085_row7_col0, #T_2b085_row7_col8, #T_2b085_row7_col10, #T_2b085_row7_col12, #T_2b085_row8_col7, #T_2b085_row8_col11, #T_2b085_row11_col0, #T_2b085_row11_col10, #T_2b085_row12_col7, #T_2b085_row12_col11 {\n",
       "  background-color: #f7fcfd;\n",
       "  color: #000000;\n",
       "}\n",
       "#T_2b085_row1_col5, #T_2b085_row3_col5, #T_2b085_row7_col4, #T_2b085_row10_col5, #T_2b085_row11_col4 {\n",
       "  background-color: #e8f6fa;\n",
       "  color: #000000;\n",
       "}\n",
       "#T_2b085_row1_col7, #T_2b085_row2_col7, #T_2b085_row4_col8, #T_2b085_row4_col12, #T_2b085_row5_col7, #T_2b085_row9_col7, #T_2b085_row10_col7 {\n",
       "  background-color: #68c3a6;\n",
       "  color: #000000;\n",
       "}\n",
       "#T_2b085_row1_col8, #T_2b085_row1_col12, #T_2b085_row4_col7 {\n",
       "  background-color: #65c2a3;\n",
       "  color: #000000;\n",
       "}\n",
       "#T_2b085_row1_col10, #T_2b085_row4_col9, #T_2b085_row10_col2, #T_2b085_row12_col9 {\n",
       "  background-color: #f1fafc;\n",
       "  color: #000000;\n",
       "}\n",
       "#T_2b085_row1_col11, #T_2b085_row10_col11 {\n",
       "  background-color: #6fc6aa;\n",
       "  color: #000000;\n",
       "}\n",
       "#T_2b085_row2_col0, #T_2b085_row2_col10, #T_2b085_row4_col10, #T_2b085_row5_col10, #T_2b085_row9_col0 {\n",
       "  background-color: #f5fbfc;\n",
       "  color: #000000;\n",
       "}\n",
       "#T_2b085_row2_col1, #T_2b085_row3_col4, #T_2b085_row8_col4, #T_2b085_row10_col3, #T_2b085_row12_col4 {\n",
       "  background-color: #e9f7fa;\n",
       "  color: #000000;\n",
       "}\n",
       "#T_2b085_row2_col4, #T_2b085_row8_col5, #T_2b085_row10_col1, #T_2b085_row10_col4, #T_2b085_row12_col5 {\n",
       "  background-color: #e7f6f9;\n",
       "  color: #000000;\n",
       "}\n",
       "#T_2b085_row2_col5, #T_2b085_row9_col4 {\n",
       "  background-color: #e5f5f9;\n",
       "  color: #000000;\n",
       "}\n",
       "#T_2b085_row2_col8, #T_2b085_row2_col12, #T_2b085_row5_col8, #T_2b085_row5_col12, #T_2b085_row9_col8, #T_2b085_row10_col8, #T_2b085_row10_col12 {\n",
       "  background-color: #64c1a2;\n",
       "  color: #000000;\n",
       "}\n",
       "#T_2b085_row2_col9 {\n",
       "  background-color: #006328;\n",
       "  color: #f1f1f1;\n",
       "}\n",
       "#T_2b085_row2_col11, #T_2b085_row3_col11 {\n",
       "  background-color: #6dc5a9;\n",
       "  color: #000000;\n",
       "}\n",
       "#T_2b085_row3_col7, #T_2b085_row3_col8, #T_2b085_row3_col12 {\n",
       "  background-color: #67c2a5;\n",
       "  color: #000000;\n",
       "}\n",
       "#T_2b085_row4_col1 {\n",
       "  background-color: #edf8fb;\n",
       "  color: #000000;\n",
       "}\n",
       "#T_2b085_row4_col3 {\n",
       "  background-color: #ecf8fa;\n",
       "  color: #000000;\n",
       "}\n",
       "#T_2b085_row4_col11 {\n",
       "  background-color: #6cc4a8;\n",
       "  color: #000000;\n",
       "}\n",
       "#T_2b085_row5_col0, #T_2b085_row7_col9, #T_2b085_row11_col9 {\n",
       "  background-color: #f6fcfd;\n",
       "  color: #000000;\n",
       "}\n",
       "#T_2b085_row5_col2 {\n",
       "  background-color: #eef8fb;\n",
       "  color: #000000;\n",
       "}\n",
       "#T_2b085_row5_col9 {\n",
       "  background-color: #dff3f4;\n",
       "  color: #000000;\n",
       "}\n",
       "#T_2b085_row7_col1, #T_2b085_row11_col1 {\n",
       "  background-color: #ecf8fb;\n",
       "  color: #000000;\n",
       "}\n",
       "#T_2b085_row7_col2, #T_2b085_row11_col8, #T_2b085_row11_col12 {\n",
       "  background-color: #f3fafc;\n",
       "  color: #000000;\n",
       "}\n",
       "#T_2b085_row7_col11, #T_2b085_row11_col7 {\n",
       "  background-color: #004e1f;\n",
       "  color: #f1f1f1;\n",
       "}\n",
       "#T_2b085_row9_col2 {\n",
       "  background-color: #006227;\n",
       "  color: #f1f1f1;\n",
       "}\n",
       "#T_2b085_row9_col3 {\n",
       "  background-color: #eff9fb;\n",
       "  color: #000000;\n",
       "}\n",
       "#T_2b085_row9_col5 {\n",
       "  background-color: #d1eeea;\n",
       "  color: #000000;\n",
       "}\n",
       "</style>\n",
       "<table id=\"T_2b085\">\n",
       "  <thead>\n",
       "    <tr>\n",
       "      <th class=\"blank level0\" >&nbsp;</th>\n",
       "      <th id=\"T_2b085_level0_col0\" class=\"col_heading level0 col0\" >Day</th>\n",
       "      <th id=\"T_2b085_level0_col1\" class=\"col_heading level0 col1\" >Day of Week_num</th>\n",
       "      <th id=\"T_2b085_level0_col2\" class=\"col_heading level0 col2\" >Distance</th>\n",
       "      <th id=\"T_2b085_level0_col3\" class=\"col_heading level0 col3\" >Hour</th>\n",
       "      <th id=\"T_2b085_level0_col4\" class=\"col_heading level0 col4\" >Month</th>\n",
       "      <th id=\"T_2b085_level0_col5\" class=\"col_heading level0 col5\" >Year</th>\n",
       "      <th id=\"T_2b085_level0_col6\" class=\"col_heading level0 col6\" >counter</th>\n",
       "      <th id=\"T_2b085_level0_col7\" class=\"col_heading level0 col7\" >dropoff_latitude</th>\n",
       "      <th id=\"T_2b085_level0_col8\" class=\"col_heading level0 col8\" >dropoff_longitude</th>\n",
       "      <th id=\"T_2b085_level0_col9\" class=\"col_heading level0 col9\" >fare_amount</th>\n",
       "      <th id=\"T_2b085_level0_col10\" class=\"col_heading level0 col10\" >passenger_count</th>\n",
       "      <th id=\"T_2b085_level0_col11\" class=\"col_heading level0 col11\" >pickup_latitude</th>\n",
       "      <th id=\"T_2b085_level0_col12\" class=\"col_heading level0 col12\" >pickup_longitude</th>\n",
       "    </tr>\n",
       "  </thead>\n",
       "  <tbody>\n",
       "    <tr>\n",
       "      <th id=\"T_2b085_level0_row0\" class=\"row_heading level0 row0\" >Day</th>\n",
       "      <td id=\"T_2b085_row0_col0\" class=\"data row0 col0\" >1.000000</td>\n",
       "      <td id=\"T_2b085_row0_col1\" class=\"data row0 col1\" >0.005681</td>\n",
       "      <td id=\"T_2b085_row0_col2\" class=\"data row0 col2\" >-0.000703</td>\n",
       "      <td id=\"T_2b085_row0_col3\" class=\"data row0 col3\" >0.005112</td>\n",
       "      <td id=\"T_2b085_row0_col4\" class=\"data row0 col4\" >-0.016895</td>\n",
       "      <td id=\"T_2b085_row0_col5\" class=\"data row0 col5\" >-0.011405</td>\n",
       "      <td id=\"T_2b085_row0_col6\" class=\"data row0 col6\" >nan</td>\n",
       "      <td id=\"T_2b085_row0_col7\" class=\"data row0 col7\" >-0.018564</td>\n",
       "      <td id=\"T_2b085_row0_col8\" class=\"data row0 col8\" >0.018262</td>\n",
       "      <td id=\"T_2b085_row0_col9\" class=\"data row0 col9\" >-0.001214</td>\n",
       "      <td id=\"T_2b085_row0_col10\" class=\"data row0 col10\" >0.002571</td>\n",
       "      <td id=\"T_2b085_row0_col11\" class=\"data row0 col11\" >-0.017634</td>\n",
       "      <td id=\"T_2b085_row0_col12\" class=\"data row0 col12\" >0.018232</td>\n",
       "    </tr>\n",
       "    <tr>\n",
       "      <th id=\"T_2b085_level0_row1\" class=\"row_heading level0 row1\" >Day of Week_num</th>\n",
       "      <td id=\"T_2b085_row1_col0\" class=\"data row1 col0\" >0.005681</td>\n",
       "      <td id=\"T_2b085_row1_col1\" class=\"data row1 col1\" >1.000000</td>\n",
       "      <td id=\"T_2b085_row1_col2\" class=\"data row1 col2\" >0.013721</td>\n",
       "      <td id=\"T_2b085_row1_col3\" class=\"data row1 col3\" >-0.091040</td>\n",
       "      <td id=\"T_2b085_row1_col4\" class=\"data row1 col4\" >-0.010128</td>\n",
       "      <td id=\"T_2b085_row1_col5\" class=\"data row1 col5\" >0.006261</td>\n",
       "      <td id=\"T_2b085_row1_col6\" class=\"data row1 col6\" >nan</td>\n",
       "      <td id=\"T_2b085_row1_col7\" class=\"data row1 col7\" >-0.008413</td>\n",
       "      <td id=\"T_2b085_row1_col8\" class=\"data row1 col8\" >0.007860</td>\n",
       "      <td id=\"T_2b085_row1_col9\" class=\"data row1 col9\" >0.000540</td>\n",
       "      <td id=\"T_2b085_row1_col10\" class=\"data row1 col10\" >0.035804</td>\n",
       "      <td id=\"T_2b085_row1_col11\" class=\"data row1 col11\" >-0.008415</td>\n",
       "      <td id=\"T_2b085_row1_col12\" class=\"data row1 col12\" >0.007469</td>\n",
       "    </tr>\n",
       "    <tr>\n",
       "      <th id=\"T_2b085_level0_row2\" class=\"row_heading level0 row2\" >Distance</th>\n",
       "      <td id=\"T_2b085_row2_col0\" class=\"data row2 col0\" >-0.000703</td>\n",
       "      <td id=\"T_2b085_row2_col1\" class=\"data row2 col1\" >0.013721</td>\n",
       "      <td id=\"T_2b085_row2_col2\" class=\"data row2 col2\" >1.000000</td>\n",
       "      <td id=\"T_2b085_row2_col3\" class=\"data row2 col3\" >-0.038831</td>\n",
       "      <td id=\"T_2b085_row2_col4\" class=\"data row2 col4\" >0.010854</td>\n",
       "      <td id=\"T_2b085_row2_col5\" class=\"data row2 col5\" >0.026668</td>\n",
       "      <td id=\"T_2b085_row2_col6\" class=\"data row2 col6\" >nan</td>\n",
       "      <td id=\"T_2b085_row2_col7\" class=\"data row2 col7\" >-0.007174</td>\n",
       "      <td id=\"T_2b085_row2_col8\" class=\"data row2 col8\" >0.010571</td>\n",
       "      <td id=\"T_2b085_row2_col9\" class=\"data row2 col9\" >0.902661</td>\n",
       "      <td id=\"T_2b085_row2_col10\" class=\"data row2 col10\" >0.008528</td>\n",
       "      <td id=\"T_2b085_row2_col11\" class=\"data row2 col11\" >-0.000158</td>\n",
       "      <td id=\"T_2b085_row2_col12\" class=\"data row2 col12\" >0.011767</td>\n",
       "    </tr>\n",
       "    <tr>\n",
       "      <th id=\"T_2b085_level0_row3\" class=\"row_heading level0 row3\" >Hour</th>\n",
       "      <td id=\"T_2b085_row3_col0\" class=\"data row3 col0\" >0.005112</td>\n",
       "      <td id=\"T_2b085_row3_col1\" class=\"data row3 col1\" >-0.091040</td>\n",
       "      <td id=\"T_2b085_row3_col2\" class=\"data row3 col2\" >-0.038831</td>\n",
       "      <td id=\"T_2b085_row3_col3\" class=\"data row3 col3\" >1.000000</td>\n",
       "      <td id=\"T_2b085_row3_col4\" class=\"data row3 col4\" >-0.003408</td>\n",
       "      <td id=\"T_2b085_row3_col5\" class=\"data row3 col5\" >0.002349</td>\n",
       "      <td id=\"T_2b085_row3_col6\" class=\"data row3 col6\" >nan</td>\n",
       "      <td id=\"T_2b085_row3_col7\" class=\"data row3 col7\" >0.000787</td>\n",
       "      <td id=\"T_2b085_row3_col8\" class=\"data row3 col8\" >-0.001213</td>\n",
       "      <td id=\"T_2b085_row3_col9\" class=\"data row3 col9\" >-0.023781</td>\n",
       "      <td id=\"T_2b085_row3_col10\" class=\"data row3 col10\" >0.014766</td>\n",
       "      <td id=\"T_2b085_row3_col11\" class=\"data row3 col11\" >-0.000343</td>\n",
       "      <td id=\"T_2b085_row3_col12\" class=\"data row3 col12\" >-0.000050</td>\n",
       "    </tr>\n",
       "    <tr>\n",
       "      <th id=\"T_2b085_level0_row4\" class=\"row_heading level0 row4\" >Month</th>\n",
       "      <td id=\"T_2b085_row4_col0\" class=\"data row4 col0\" >-0.016895</td>\n",
       "      <td id=\"T_2b085_row4_col1\" class=\"data row4 col1\" >-0.010128</td>\n",
       "      <td id=\"T_2b085_row4_col2\" class=\"data row4 col2\" >0.010854</td>\n",
       "      <td id=\"T_2b085_row4_col3\" class=\"data row4 col3\" >-0.003408</td>\n",
       "      <td id=\"T_2b085_row4_col4\" class=\"data row4 col4\" >1.000000</td>\n",
       "      <td id=\"T_2b085_row4_col5\" class=\"data row4 col5\" >-0.113721</td>\n",
       "      <td id=\"T_2b085_row4_col6\" class=\"data row4 col6\" >nan</td>\n",
       "      <td id=\"T_2b085_row4_col7\" class=\"data row4 col7\" >0.007653</td>\n",
       "      <td id=\"T_2b085_row4_col8\" class=\"data row4 col8\" >-0.007384</td>\n",
       "      <td id=\"T_2b085_row4_col9\" class=\"data row4 col9\" >0.024167</td>\n",
       "      <td id=\"T_2b085_row4_col10\" class=\"data row4 col10\" >0.009010</td>\n",
       "      <td id=\"T_2b085_row4_col11\" class=\"data row4 col11\" >0.007143</td>\n",
       "      <td id=\"T_2b085_row4_col12\" class=\"data row4 col12\" >-0.007443</td>\n",
       "    </tr>\n",
       "    <tr>\n",
       "      <th id=\"T_2b085_level0_row5\" class=\"row_heading level0 row5\" >Year</th>\n",
       "      <td id=\"T_2b085_row5_col0\" class=\"data row5 col0\" >-0.011405</td>\n",
       "      <td id=\"T_2b085_row5_col1\" class=\"data row5 col1\" >0.006261</td>\n",
       "      <td id=\"T_2b085_row5_col2\" class=\"data row5 col2\" >0.026668</td>\n",
       "      <td id=\"T_2b085_row5_col3\" class=\"data row5 col3\" >0.002349</td>\n",
       "      <td id=\"T_2b085_row5_col4\" class=\"data row5 col4\" >-0.113721</td>\n",
       "      <td id=\"T_2b085_row5_col5\" class=\"data row5 col5\" >1.000000</td>\n",
       "      <td id=\"T_2b085_row5_col6\" class=\"data row5 col6\" >nan</td>\n",
       "      <td id=\"T_2b085_row5_col7\" class=\"data row5 col7\" >-0.013856</td>\n",
       "      <td id=\"T_2b085_row5_col8\" class=\"data row5 col8\" >0.013637</td>\n",
       "      <td id=\"T_2b085_row5_col9\" class=\"data row5 col9\" >0.137803</td>\n",
       "      <td id=\"T_2b085_row5_col10\" class=\"data row5 col10\" >0.007578</td>\n",
       "      <td id=\"T_2b085_row5_col11\" class=\"data row5 col11\" >-0.012956</td>\n",
       "      <td id=\"T_2b085_row5_col12\" class=\"data row5 col12\" >0.013781</td>\n",
       "    </tr>\n",
       "    <tr>\n",
       "      <th id=\"T_2b085_level0_row6\" class=\"row_heading level0 row6\" >counter</th>\n",
       "      <td id=\"T_2b085_row6_col0\" class=\"data row6 col0\" >nan</td>\n",
       "      <td id=\"T_2b085_row6_col1\" class=\"data row6 col1\" >nan</td>\n",
       "      <td id=\"T_2b085_row6_col2\" class=\"data row6 col2\" >nan</td>\n",
       "      <td id=\"T_2b085_row6_col3\" class=\"data row6 col3\" >nan</td>\n",
       "      <td id=\"T_2b085_row6_col4\" class=\"data row6 col4\" >nan</td>\n",
       "      <td id=\"T_2b085_row6_col5\" class=\"data row6 col5\" >nan</td>\n",
       "      <td id=\"T_2b085_row6_col6\" class=\"data row6 col6\" >nan</td>\n",
       "      <td id=\"T_2b085_row6_col7\" class=\"data row6 col7\" >nan</td>\n",
       "      <td id=\"T_2b085_row6_col8\" class=\"data row6 col8\" >nan</td>\n",
       "      <td id=\"T_2b085_row6_col9\" class=\"data row6 col9\" >nan</td>\n",
       "      <td id=\"T_2b085_row6_col10\" class=\"data row6 col10\" >nan</td>\n",
       "      <td id=\"T_2b085_row6_col11\" class=\"data row6 col11\" >nan</td>\n",
       "      <td id=\"T_2b085_row6_col12\" class=\"data row6 col12\" >nan</td>\n",
       "    </tr>\n",
       "    <tr>\n",
       "      <th id=\"T_2b085_level0_row7\" class=\"row_heading level0 row7\" >dropoff_latitude</th>\n",
       "      <td id=\"T_2b085_row7_col0\" class=\"data row7 col0\" >-0.018564</td>\n",
       "      <td id=\"T_2b085_row7_col1\" class=\"data row7 col1\" >-0.008413</td>\n",
       "      <td id=\"T_2b085_row7_col2\" class=\"data row7 col2\" >-0.007174</td>\n",
       "      <td id=\"T_2b085_row7_col3\" class=\"data row7 col3\" >0.000787</td>\n",
       "      <td id=\"T_2b085_row7_col4\" class=\"data row7 col4\" >0.007653</td>\n",
       "      <td id=\"T_2b085_row7_col5\" class=\"data row7 col5\" >-0.013856</td>\n",
       "      <td id=\"T_2b085_row7_col6\" class=\"data row7 col6\" >nan</td>\n",
       "      <td id=\"T_2b085_row7_col7\" class=\"data row7 col7\" >1.000000</td>\n",
       "      <td id=\"T_2b085_row7_col8\" class=\"data row7 col8\" >-0.997443</td>\n",
       "      <td id=\"T_2b085_row7_col9\" class=\"data row7 col9\" >-0.013579</td>\n",
       "      <td id=\"T_2b085_row7_col10\" class=\"data row7 col10\" >-0.010042</td>\n",
       "      <td id=\"T_2b085_row7_col11\" class=\"data row7 col11\" >0.937307</td>\n",
       "      <td id=\"T_2b085_row7_col12\" class=\"data row7 col12\" >-0.997461</td>\n",
       "    </tr>\n",
       "    <tr>\n",
       "      <th id=\"T_2b085_level0_row8\" class=\"row_heading level0 row8\" >dropoff_longitude</th>\n",
       "      <td id=\"T_2b085_row8_col0\" class=\"data row8 col0\" >0.018262</td>\n",
       "      <td id=\"T_2b085_row8_col1\" class=\"data row8 col1\" >0.007860</td>\n",
       "      <td id=\"T_2b085_row8_col2\" class=\"data row8 col2\" >0.010571</td>\n",
       "      <td id=\"T_2b085_row8_col3\" class=\"data row8 col3\" >-0.001213</td>\n",
       "      <td id=\"T_2b085_row8_col4\" class=\"data row8 col4\" >-0.007384</td>\n",
       "      <td id=\"T_2b085_row8_col5\" class=\"data row8 col5\" >0.013637</td>\n",
       "      <td id=\"T_2b085_row8_col6\" class=\"data row8 col6\" >nan</td>\n",
       "      <td id=\"T_2b085_row8_col7\" class=\"data row8 col7\" >-0.997443</td>\n",
       "      <td id=\"T_2b085_row8_col8\" class=\"data row8 col8\" >1.000000</td>\n",
       "      <td id=\"T_2b085_row8_col9\" class=\"data row8 col9\" >0.016010</td>\n",
       "      <td id=\"T_2b085_row8_col10\" class=\"data row8 col10\" >0.009934</td>\n",
       "      <td id=\"T_2b085_row8_col11\" class=\"data row8 col11\" >-0.935047</td>\n",
       "      <td id=\"T_2b085_row8_col12\" class=\"data row8 col12\" >0.999832</td>\n",
       "    </tr>\n",
       "    <tr>\n",
       "      <th id=\"T_2b085_level0_row9\" class=\"row_heading level0 row9\" >fare_amount</th>\n",
       "      <td id=\"T_2b085_row9_col0\" class=\"data row9 col0\" >-0.001214</td>\n",
       "      <td id=\"T_2b085_row9_col1\" class=\"data row9 col1\" >0.000540</td>\n",
       "      <td id=\"T_2b085_row9_col2\" class=\"data row9 col2\" >0.902661</td>\n",
       "      <td id=\"T_2b085_row9_col3\" class=\"data row9 col3\" >-0.023781</td>\n",
       "      <td id=\"T_2b085_row9_col4\" class=\"data row9 col4\" >0.024167</td>\n",
       "      <td id=\"T_2b085_row9_col5\" class=\"data row9 col5\" >0.137803</td>\n",
       "      <td id=\"T_2b085_row9_col6\" class=\"data row9 col6\" >nan</td>\n",
       "      <td id=\"T_2b085_row9_col7\" class=\"data row9 col7\" >-0.013579</td>\n",
       "      <td id=\"T_2b085_row9_col8\" class=\"data row9 col8\" >0.016010</td>\n",
       "      <td id=\"T_2b085_row9_col9\" class=\"data row9 col9\" >1.000000</td>\n",
       "      <td id=\"T_2b085_row9_col10\" class=\"data row9 col10\" >0.014875</td>\n",
       "      <td id=\"T_2b085_row9_col11\" class=\"data row9 col11\" >-0.013133</td>\n",
       "      <td id=\"T_2b085_row9_col12\" class=\"data row9 col12\" >0.017921</td>\n",
       "    </tr>\n",
       "    <tr>\n",
       "      <th id=\"T_2b085_level0_row10\" class=\"row_heading level0 row10\" >passenger_count</th>\n",
       "      <td id=\"T_2b085_row10_col0\" class=\"data row10 col0\" >0.002571</td>\n",
       "      <td id=\"T_2b085_row10_col1\" class=\"data row10 col1\" >0.035804</td>\n",
       "      <td id=\"T_2b085_row10_col2\" class=\"data row10 col2\" >0.008528</td>\n",
       "      <td id=\"T_2b085_row10_col3\" class=\"data row10 col3\" >0.014766</td>\n",
       "      <td id=\"T_2b085_row10_col4\" class=\"data row10 col4\" >0.009010</td>\n",
       "      <td id=\"T_2b085_row10_col5\" class=\"data row10 col5\" >0.007578</td>\n",
       "      <td id=\"T_2b085_row10_col6\" class=\"data row10 col6\" >nan</td>\n",
       "      <td id=\"T_2b085_row10_col7\" class=\"data row10 col7\" >-0.010042</td>\n",
       "      <td id=\"T_2b085_row10_col8\" class=\"data row10 col8\" >0.009934</td>\n",
       "      <td id=\"T_2b085_row10_col9\" class=\"data row10 col9\" >0.014875</td>\n",
       "      <td id=\"T_2b085_row10_col10\" class=\"data row10 col10\" >1.000000</td>\n",
       "      <td id=\"T_2b085_row10_col11\" class=\"data row10 col11\" >-0.009923</td>\n",
       "      <td id=\"T_2b085_row10_col12\" class=\"data row10 col12\" >0.009953</td>\n",
       "    </tr>\n",
       "    <tr>\n",
       "      <th id=\"T_2b085_level0_row11\" class=\"row_heading level0 row11\" >pickup_latitude</th>\n",
       "      <td id=\"T_2b085_row11_col0\" class=\"data row11 col0\" >-0.017634</td>\n",
       "      <td id=\"T_2b085_row11_col1\" class=\"data row11 col1\" >-0.008415</td>\n",
       "      <td id=\"T_2b085_row11_col2\" class=\"data row11 col2\" >-0.000158</td>\n",
       "      <td id=\"T_2b085_row11_col3\" class=\"data row11 col3\" >-0.000343</td>\n",
       "      <td id=\"T_2b085_row11_col4\" class=\"data row11 col4\" >0.007143</td>\n",
       "      <td id=\"T_2b085_row11_col5\" class=\"data row11 col5\" >-0.012956</td>\n",
       "      <td id=\"T_2b085_row11_col6\" class=\"data row11 col6\" >nan</td>\n",
       "      <td id=\"T_2b085_row11_col7\" class=\"data row11 col7\" >0.937307</td>\n",
       "      <td id=\"T_2b085_row11_col8\" class=\"data row11 col8\" >-0.935047</td>\n",
       "      <td id=\"T_2b085_row11_col9\" class=\"data row11 col9\" >-0.013133</td>\n",
       "      <td id=\"T_2b085_row11_col10\" class=\"data row11 col10\" >-0.009923</td>\n",
       "      <td id=\"T_2b085_row11_col11\" class=\"data row11 col11\" >1.000000</td>\n",
       "      <td id=\"T_2b085_row11_col12\" class=\"data row11 col12\" >-0.935052</td>\n",
       "    </tr>\n",
       "    <tr>\n",
       "      <th id=\"T_2b085_level0_row12\" class=\"row_heading level0 row12\" >pickup_longitude</th>\n",
       "      <td id=\"T_2b085_row12_col0\" class=\"data row12 col0\" >0.018232</td>\n",
       "      <td id=\"T_2b085_row12_col1\" class=\"data row12 col1\" >0.007469</td>\n",
       "      <td id=\"T_2b085_row12_col2\" class=\"data row12 col2\" >0.011767</td>\n",
       "      <td id=\"T_2b085_row12_col3\" class=\"data row12 col3\" >-0.000050</td>\n",
       "      <td id=\"T_2b085_row12_col4\" class=\"data row12 col4\" >-0.007443</td>\n",
       "      <td id=\"T_2b085_row12_col5\" class=\"data row12 col5\" >0.013781</td>\n",
       "      <td id=\"T_2b085_row12_col6\" class=\"data row12 col6\" >nan</td>\n",
       "      <td id=\"T_2b085_row12_col7\" class=\"data row12 col7\" >-0.997461</td>\n",
       "      <td id=\"T_2b085_row12_col8\" class=\"data row12 col8\" >0.999832</td>\n",
       "      <td id=\"T_2b085_row12_col9\" class=\"data row12 col9\" >0.017921</td>\n",
       "      <td id=\"T_2b085_row12_col10\" class=\"data row12 col10\" >0.009953</td>\n",
       "      <td id=\"T_2b085_row12_col11\" class=\"data row12 col11\" >-0.935052</td>\n",
       "      <td id=\"T_2b085_row12_col12\" class=\"data row12 col12\" >1.000000</td>\n",
       "    </tr>\n",
       "  </tbody>\n",
       "</table>\n"
      ],
      "text/plain": [
       "<pandas.io.formats.style.Styler at 0x1c18eed8590>"
      ]
     },
     "execution_count": 51,
     "metadata": {},
     "output_type": "execute_result"
    }
   ],
   "source": [
    "# Identify non-numeric columns\n",
    "non_numeric_cols = [col for col in uber_2.columns if not pd.api.types.is_numeric_dtype(uber_2[col])]\n",
    "\n",
    "# Exclude non-numeric columns from correlation calculation\n",
    "numeric_cols = uber_2.columns.difference(non_numeric_cols)\n",
    "corr = uber_2[numeric_cols].corr()\n",
    "\n",
    "# Display correlation matrix with background gradient\n",
    "corr.style.background_gradient(cmap='BuGn')\n"
   ]
  },
  {
   "cell_type": "markdown",
   "metadata": {
    "id": "vMJrljgkH9jD"
   },
   "source": [
    "# **Standardization**\n",
    "For more accurate results on our linear regression model"
   ]
  },
  {
   "cell_type": "markdown",
   "metadata": {
    "id": "a_gzA8JtSSTj"
   },
   "source": [
    "There is some coorelation between the distance and fare amount. So we will implement our simple linear regression model using these two varaibles.\n",
    "\n",
    "**Assigning the dependent and independent variable**"
   ]
  },
  {
   "cell_type": "code",
   "execution_count": 52,
   "metadata": {
    "id": "eVjt4g2nSS-8"
   },
   "outputs": [],
   "source": [
    "X = uber_2['Distance'].values.reshape(-1, 1)        #Independent Variable\n",
    "y = uber_2['fare_amount'].values.reshape(-1, 1)     #Dependent Variable"
   ]
  },
  {
   "cell_type": "code",
   "execution_count": 54,
   "metadata": {
    "colab": {
     "base_uri": "https://localhost:8080/"
    },
    "id": "dyXKOrPsSphm",
    "outputId": "0ec258eb-578d-43cd-e957-fb48a2bec285"
   },
   "outputs": [
    {
     "name": "stdout",
     "output_type": "stream",
     "text": [
      "[[-0.50603242]\n",
      " [-0.48515604]\n",
      " [ 0.05762972]\n",
      " ...\n",
      " [ 1.9365035 ]\n",
      " [ 0.22464072]\n",
      " [ 0.18288797]]\n",
      "[[-0.58441387]\n",
      " [-0.37257358]\n",
      " [ 0.32812893]\n",
      " ...\n",
      " [ 2.44924776]\n",
      " [-0.07925625]\n",
      " [ 0.43133318]]\n"
     ]
    }
   ],
   "source": [
    "from sklearn.preprocessing import StandardScaler\n",
    "std = StandardScaler()\n",
    "y_std = std.fit_transform(y)\n",
    "print(y_std)\n",
    "\n",
    "x_std = std.fit_transform(X)\n",
    "print(x_std)"
   ]
  },
  {
   "cell_type": "markdown",
   "metadata": {
    "id": "5UpV5_TNIs78"
   },
   "source": [
    "# **Splitting the Dataset**\n",
    "Training and Test Set"
   ]
  },
  {
   "cell_type": "code",
   "execution_count": 57,
   "metadata": {},
   "outputs": [],
   "source": [
    "from sklearn.model_selection import train_test_split\n",
    "X_train, X_test, y_train, y_test = train_test_split(x_std, y_std, test_size=0.2, random_state=0)"
   ]
  },
  {
   "cell_type": "code",
   "execution_count": null,
   "metadata": {},
   "outputs": [],
   "source": []
  }
 ],
 "metadata": {
  "colab": {
   "provenance": []
  },
  "kernelspec": {
   "display_name": "Python 3 (ipykernel)",
   "language": "python",
   "name": "python3"
  },
  "language_info": {
   "codemirror_mode": {
    "name": "ipython",
    "version": 3
   },
   "file_extension": ".py",
   "mimetype": "text/x-python",
   "name": "python",
   "nbconvert_exporter": "python",
   "pygments_lexer": "ipython3",
   "version": "3.11.5"
  }
 },
 "nbformat": 4,
 "nbformat_minor": 1
}
